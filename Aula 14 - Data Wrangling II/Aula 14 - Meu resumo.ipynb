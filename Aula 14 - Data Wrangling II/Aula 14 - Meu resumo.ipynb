{
 "cells": [
  {
   "cell_type": "code",
   "execution_count": 12,
   "metadata": {},
   "outputs": [],
   "source": [
    "import numpy as np\n",
    "import pandas as pd"
   ]
  },
  {
   "cell_type": "markdown",
   "metadata": {},
   "source": [
    "# Data Wrangling II\n",
    "\n",
    "* **Stack** e **Unstack**"
   ]
  },
  {
   "cell_type": "markdown",
   "metadata": {},
   "source": [
    "#### Stack \n",
    "\n",
    "Usado para converter colunas de um DataFrame em índices, resultando em uma reorganização dos dados de formato \"largo\" (wide) para formato \"longo\" (long). Ela empilha as colunas selecionadas, movendo-as para o índice mais interno \n",
    "\n",
    "![Alt text](image.png)"
   ]
  },
  {
   "cell_type": "markdown",
   "metadata": {},
   "source": [
    "#### Exemplo:\n",
    "\n",
    "* Stack \n",
    "\n",
    "![Alt text](<Captura de tela 2023-09-17 175804.png>)\n"
   ]
  },
  {
   "cell_type": "markdown",
   "metadata": {},
   "source": [
    "##### Unstack\n",
    "\n",
    "A Função unstack é o oposto da função stack. Ela desempilha os dados de um DataFrame de formato \"longo\" para \"largo\", movendo índices internos para as colunas correspondentes, reorganizando o DataFrame para o formato mais tubular. \n",
    "\n",
    "![Alt text](image-1.png)\n"
   ]
  },
  {
   "cell_type": "markdown",
   "metadata": {},
   "source": [
    "\n",
    "##### Exemplo:\n",
    "\n",
    "* Unstack\n",
    "\n",
    "![Alt text](<Captura de tela 2023-09-17 180107.png>)"
   ]
  },
  {
   "cell_type": "markdown",
   "metadata": {},
   "source": [
    "#### Explode\n",
    "\n",
    "É usado para transformar listas (ou outras estruturas de dados semelhantes a listas) que estão contidas em uma coluna DataFrame em linhas separadas, replicando os valores das outras colunas correspondentes. \n",
    "\n",
    "![Alt text](<Captura de tela 2023-09-17 180854.png>)"
   ]
  },
  {
   "cell_type": "markdown",
   "metadata": {},
   "source": [
    "### Hora da Pratica "
   ]
  },
  {
   "cell_type": "code",
   "execution_count": 3,
   "metadata": {},
   "outputs": [],
   "source": [
    "import numpy as np\n",
    "import pandas as pd"
   ]
  },
  {
   "cell_type": "code",
   "execution_count": 4,
   "metadata": {},
   "outputs": [],
   "source": [
    "df = pd.read_csv('realtor-data.csv') #puxa/le o arquivo csv "
   ]
  },
  {
   "cell_type": "code",
   "execution_count": 6,
   "metadata": {},
   "outputs": [
    {
     "name": "stdout",
     "output_type": "stream",
     "text": [
      "<class 'pandas.core.frame.DataFrame'>\n",
      "RangeIndex: 100000 entries, 0 to 99999\n",
      "Data columns (total 10 columns):\n",
      " #   Column          Non-Null Count   Dtype  \n",
      "---  ------          --------------   -----  \n",
      " 0   status          100000 non-null  object \n",
      " 1   bed             75050 non-null   float64\n",
      " 2   bath            75112 non-null   float64\n",
      " 3   acre_lot        85987 non-null   float64\n",
      " 4   city            99948 non-null   object \n",
      " 5   state           100000 non-null  object \n",
      " 6   zip_code        99805 non-null   float64\n",
      " 7   house_size      75082 non-null   float64\n",
      " 8   prev_sold_date  28745 non-null   object \n",
      " 9   price           100000 non-null  float64\n",
      "dtypes: float64(6), object(4)\n",
      "memory usage: 7.6+ MB\n"
     ]
    }
   ],
   "source": [
    "df.info() #apresentan  informações sobre o arquivo "
   ]
  },
  {
   "cell_type": "code",
   "execution_count": 7,
   "metadata": {},
   "outputs": [
    {
     "data": {
      "text/html": [
       "<div>\n",
       "<style scoped>\n",
       "    .dataframe tbody tr th:only-of-type {\n",
       "        vertical-align: middle;\n",
       "    }\n",
       "\n",
       "    .dataframe tbody tr th {\n",
       "        vertical-align: top;\n",
       "    }\n",
       "\n",
       "    .dataframe thead th {\n",
       "        text-align: right;\n",
       "    }\n",
       "</style>\n",
       "<table border=\"1\" class=\"dataframe\">\n",
       "  <thead>\n",
       "    <tr style=\"text-align: right;\">\n",
       "      <th></th>\n",
       "      <th>status</th>\n",
       "      <th>bed</th>\n",
       "      <th>bath</th>\n",
       "      <th>acre_lot</th>\n",
       "      <th>city</th>\n",
       "      <th>state</th>\n",
       "      <th>zip_code</th>\n",
       "      <th>house_size</th>\n",
       "      <th>prev_sold_date</th>\n",
       "      <th>price</th>\n",
       "    </tr>\n",
       "  </thead>\n",
       "  <tbody>\n",
       "    <tr>\n",
       "      <th>0</th>\n",
       "      <td>for_sale</td>\n",
       "      <td>3.0</td>\n",
       "      <td>2.0</td>\n",
       "      <td>0.12</td>\n",
       "      <td>Adjuntas</td>\n",
       "      <td>Puerto Rico</td>\n",
       "      <td>601.0</td>\n",
       "      <td>920.0</td>\n",
       "      <td>NaN</td>\n",
       "      <td>105000.0</td>\n",
       "    </tr>\n",
       "    <tr>\n",
       "      <th>1</th>\n",
       "      <td>for_sale</td>\n",
       "      <td>4.0</td>\n",
       "      <td>2.0</td>\n",
       "      <td>0.08</td>\n",
       "      <td>Adjuntas</td>\n",
       "      <td>Puerto Rico</td>\n",
       "      <td>601.0</td>\n",
       "      <td>1527.0</td>\n",
       "      <td>NaN</td>\n",
       "      <td>80000.0</td>\n",
       "    </tr>\n",
       "    <tr>\n",
       "      <th>2</th>\n",
       "      <td>for_sale</td>\n",
       "      <td>2.0</td>\n",
       "      <td>1.0</td>\n",
       "      <td>0.15</td>\n",
       "      <td>Juana Diaz</td>\n",
       "      <td>Puerto Rico</td>\n",
       "      <td>795.0</td>\n",
       "      <td>748.0</td>\n",
       "      <td>NaN</td>\n",
       "      <td>67000.0</td>\n",
       "    </tr>\n",
       "    <tr>\n",
       "      <th>3</th>\n",
       "      <td>for_sale</td>\n",
       "      <td>4.0</td>\n",
       "      <td>2.0</td>\n",
       "      <td>0.10</td>\n",
       "      <td>Ponce</td>\n",
       "      <td>Puerto Rico</td>\n",
       "      <td>731.0</td>\n",
       "      <td>1800.0</td>\n",
       "      <td>NaN</td>\n",
       "      <td>145000.0</td>\n",
       "    </tr>\n",
       "    <tr>\n",
       "      <th>4</th>\n",
       "      <td>for_sale</td>\n",
       "      <td>6.0</td>\n",
       "      <td>2.0</td>\n",
       "      <td>0.05</td>\n",
       "      <td>Mayaguez</td>\n",
       "      <td>Puerto Rico</td>\n",
       "      <td>680.0</td>\n",
       "      <td>NaN</td>\n",
       "      <td>NaN</td>\n",
       "      <td>65000.0</td>\n",
       "    </tr>\n",
       "  </tbody>\n",
       "</table>\n",
       "</div>"
      ],
      "text/plain": [
       "     status  bed  bath  acre_lot        city        state  zip_code  \\\n",
       "0  for_sale  3.0   2.0      0.12    Adjuntas  Puerto Rico     601.0   \n",
       "1  for_sale  4.0   2.0      0.08    Adjuntas  Puerto Rico     601.0   \n",
       "2  for_sale  2.0   1.0      0.15  Juana Diaz  Puerto Rico     795.0   \n",
       "3  for_sale  4.0   2.0      0.10       Ponce  Puerto Rico     731.0   \n",
       "4  for_sale  6.0   2.0      0.05    Mayaguez  Puerto Rico     680.0   \n",
       "\n",
       "   house_size prev_sold_date     price  \n",
       "0       920.0            NaN  105000.0  \n",
       "1      1527.0            NaN   80000.0  \n",
       "2       748.0            NaN   67000.0  \n",
       "3      1800.0            NaN  145000.0  \n",
       "4         NaN            NaN   65000.0  "
      ]
     },
     "execution_count": 7,
     "metadata": {},
     "output_type": "execute_result"
    }
   ],
   "source": [
    "df.head(5) # pega as primeiras 5 linhas"
   ]
  },
  {
   "cell_type": "code",
   "execution_count": 9,
   "metadata": {},
   "outputs": [
    {
     "data": {
      "text/plain": [
       "state           city        \n",
       "Connecticut     Andover         2.492542e+05\n",
       "                Ashford         2.849269e+05\n",
       "                Avon            6.070604e+05\n",
       "                Barkhamsted     3.752788e+05\n",
       "                Berlin          3.484531e+05\n",
       "                                    ...     \n",
       "Virgin Islands  Frederiksted    7.014767e+05\n",
       "                Kingshill       4.578320e+05\n",
       "                Saint John      1.003303e+06\n",
       "                Saint Thomas    1.169000e+06\n",
       "Virginia        Chincoteague    7.500000e+04\n",
       "Name: price, Length: 582, dtype: float64"
      ]
     },
     "execution_count": 9,
     "metadata": {},
     "output_type": "execute_result"
    }
   ],
   "source": [
    "# Para realizar um exemplo de stack e unstack vai ser feito inicialmente um groupby. \n",
    "# Vamos realizar um groupby onde iremos realizar uma media dos valores das casas dos estados e cidades \n",
    "\n",
    "# pegue os dados do csv que estão como df ( dataframe) e groupby -> Agrupe os dados -> (['Das colulnas State', 'E city])['pegue o campo price'].mean(faça a média)\n",
    "\n",
    "df.groupby(['state', 'city'])['price'].mean()  "
   ]
  },
  {
   "cell_type": "code",
   "execution_count": 10,
   "metadata": {},
   "outputs": [],
   "source": [
    "# podemos realizar um df sumarizado \n",
    "\n",
    "df_sum = pd.DataFrame(df.groupby(['state', 'city'])['price'].mean())"
   ]
  },
  {
   "cell_type": "code",
   "execution_count": 11,
   "metadata": {},
   "outputs": [
    {
     "data": {
      "text/html": [
       "<div>\n",
       "<style scoped>\n",
       "    .dataframe tbody tr th:only-of-type {\n",
       "        vertical-align: middle;\n",
       "    }\n",
       "\n",
       "    .dataframe tbody tr th {\n",
       "        vertical-align: top;\n",
       "    }\n",
       "\n",
       "    .dataframe thead th {\n",
       "        text-align: right;\n",
       "    }\n",
       "</style>\n",
       "<table border=\"1\" class=\"dataframe\">\n",
       "  <thead>\n",
       "    <tr style=\"text-align: right;\">\n",
       "      <th></th>\n",
       "      <th></th>\n",
       "      <th>price</th>\n",
       "    </tr>\n",
       "    <tr>\n",
       "      <th>state</th>\n",
       "      <th>city</th>\n",
       "      <th></th>\n",
       "    </tr>\n",
       "  </thead>\n",
       "  <tbody>\n",
       "    <tr>\n",
       "      <th rowspan=\"5\" valign=\"top\">Connecticut</th>\n",
       "      <th>Andover</th>\n",
       "      <td>2.492542e+05</td>\n",
       "    </tr>\n",
       "    <tr>\n",
       "      <th>Ashford</th>\n",
       "      <td>2.849269e+05</td>\n",
       "    </tr>\n",
       "    <tr>\n",
       "      <th>Avon</th>\n",
       "      <td>6.070604e+05</td>\n",
       "    </tr>\n",
       "    <tr>\n",
       "      <th>Barkhamsted</th>\n",
       "      <td>3.752788e+05</td>\n",
       "    </tr>\n",
       "    <tr>\n",
       "      <th>Berlin</th>\n",
       "      <td>3.484531e+05</td>\n",
       "    </tr>\n",
       "    <tr>\n",
       "      <th>...</th>\n",
       "      <th>...</th>\n",
       "      <td>...</td>\n",
       "    </tr>\n",
       "    <tr>\n",
       "      <th rowspan=\"4\" valign=\"top\">Virgin Islands</th>\n",
       "      <th>Frederiksted</th>\n",
       "      <td>7.014767e+05</td>\n",
       "    </tr>\n",
       "    <tr>\n",
       "      <th>Kingshill</th>\n",
       "      <td>4.578320e+05</td>\n",
       "    </tr>\n",
       "    <tr>\n",
       "      <th>Saint John</th>\n",
       "      <td>1.003303e+06</td>\n",
       "    </tr>\n",
       "    <tr>\n",
       "      <th>Saint Thomas</th>\n",
       "      <td>1.169000e+06</td>\n",
       "    </tr>\n",
       "    <tr>\n",
       "      <th>Virginia</th>\n",
       "      <th>Chincoteague</th>\n",
       "      <td>7.500000e+04</td>\n",
       "    </tr>\n",
       "  </tbody>\n",
       "</table>\n",
       "<p>582 rows × 1 columns</p>\n",
       "</div>"
      ],
      "text/plain": [
       "                                    price\n",
       "state          city                      \n",
       "Connecticut    Andover       2.492542e+05\n",
       "               Ashford       2.849269e+05\n",
       "               Avon          6.070604e+05\n",
       "               Barkhamsted   3.752788e+05\n",
       "               Berlin        3.484531e+05\n",
       "...                                   ...\n",
       "Virgin Islands Frederiksted  7.014767e+05\n",
       "               Kingshill     4.578320e+05\n",
       "               Saint John    1.003303e+06\n",
       "               Saint Thomas  1.169000e+06\n",
       "Virginia       Chincoteague  7.500000e+04\n",
       "\n",
       "[582 rows x 1 columns]"
      ]
     },
     "execution_count": 11,
     "metadata": {},
     "output_type": "execute_result"
    }
   ],
   "source": [
    "df_sum\n",
    "\n",
    "# No exemplo a baixo, vejá que há somente uma coluna a Price, a coluna state e city estão como indice "
   ]
  },
  {
   "cell_type": "code",
   "execution_count": 12,
   "metadata": {},
   "outputs": [
    {
     "data": {
      "text/plain": [
       "MultiIndex([(   'Connecticut',       'Andover'),\n",
       "            (   'Connecticut',       'Ashford'),\n",
       "            (   'Connecticut',          'Avon'),\n",
       "            (   'Connecticut',   'Barkhamsted'),\n",
       "            (   'Connecticut',        'Berlin'),\n",
       "            (   'Connecticut',     'Bethlehem'),\n",
       "            (   'Connecticut',    'Bloomfield'),\n",
       "            (   'Connecticut',        'Bolton'),\n",
       "            (   'Connecticut',        'Bozrah'),\n",
       "            (   'Connecticut',       'Bristol'),\n",
       "            ...\n",
       "            (       'Vermont',    'Whitingham'),\n",
       "            (       'Vermont',    'Wilmington'),\n",
       "            (       'Vermont',       'Winhall'),\n",
       "            (       'Vermont',      'Woodford'),\n",
       "            ('Virgin Islands', 'Christiansted'),\n",
       "            ('Virgin Islands',  'Frederiksted'),\n",
       "            ('Virgin Islands',     'Kingshill'),\n",
       "            ('Virgin Islands',    'Saint John'),\n",
       "            ('Virgin Islands',  'Saint Thomas'),\n",
       "            (      'Virginia',  'Chincoteague')],\n",
       "           names=['state', 'city'], length=582)"
      ]
     },
     "execution_count": 12,
     "metadata": {},
     "output_type": "execute_result"
    }
   ],
   "source": [
    "df_sum.index\n",
    "\n",
    "#veja que o resultado é um multiIndex"
   ]
  },
  {
   "cell_type": "code",
   "execution_count": 14,
   "metadata": {},
   "outputs": [
    {
     "data": {
      "text/html": [
       "<div>\n",
       "<style scoped>\n",
       "    .dataframe tbody tr th:only-of-type {\n",
       "        vertical-align: middle;\n",
       "    }\n",
       "\n",
       "    .dataframe tbody tr th {\n",
       "        vertical-align: top;\n",
       "    }\n",
       "\n",
       "    .dataframe thead th {\n",
       "        text-align: right;\n",
       "    }\n",
       "</style>\n",
       "<table border=\"1\" class=\"dataframe\">\n",
       "  <thead>\n",
       "    <tr style=\"text-align: right;\">\n",
       "      <th></th>\n",
       "      <th></th>\n",
       "      <th>price</th>\n",
       "    </tr>\n",
       "    <tr>\n",
       "      <th>state</th>\n",
       "      <th>city</th>\n",
       "      <th></th>\n",
       "    </tr>\n",
       "  </thead>\n",
       "  <tbody>\n",
       "    <tr>\n",
       "      <th rowspan=\"5\" valign=\"top\">Connecticut</th>\n",
       "      <th>Andover</th>\n",
       "      <td>249254.166667</td>\n",
       "    </tr>\n",
       "    <tr>\n",
       "      <th>Ashford</th>\n",
       "      <td>284926.865672</td>\n",
       "    </tr>\n",
       "    <tr>\n",
       "      <th>Avon</th>\n",
       "      <td>607060.414013</td>\n",
       "    </tr>\n",
       "    <tr>\n",
       "      <th>Barkhamsted</th>\n",
       "      <td>375278.787879</td>\n",
       "    </tr>\n",
       "    <tr>\n",
       "      <th>Berlin</th>\n",
       "      <td>348453.061224</td>\n",
       "    </tr>\n",
       "  </tbody>\n",
       "</table>\n",
       "</div>"
      ],
      "text/plain": [
       "                                 price\n",
       "state       city                      \n",
       "Connecticut Andover      249254.166667\n",
       "            Ashford      284926.865672\n",
       "            Avon         607060.414013\n",
       "            Barkhamsted  375278.787879\n",
       "            Berlin       348453.061224"
      ]
     },
     "execution_count": 14,
     "metadata": {},
     "output_type": "execute_result"
    }
   ],
   "source": [
    "df_sum.head()"
   ]
  },
  {
   "cell_type": "markdown",
   "metadata": {},
   "source": [
    "* **Exemplo Stack e Unstack**\n",
    "\n",
    "Obs: Lemando que foi necessario criar um groupby acima:"
   ]
  },
  {
   "cell_type": "code",
   "execution_count": 13,
   "metadata": {},
   "outputs": [
    {
     "data": {
      "text/plain": [
       "state           city               \n",
       "Connecticut     Andover       price    2.492542e+05\n",
       "                Ashford       price    2.849269e+05\n",
       "                Avon          price    6.070604e+05\n",
       "                Barkhamsted   price    3.752788e+05\n",
       "                Berlin        price    3.484531e+05\n",
       "                                           ...     \n",
       "Virgin Islands  Frederiksted  price    7.014767e+05\n",
       "                Kingshill     price    4.578320e+05\n",
       "                Saint John    price    1.003303e+06\n",
       "                Saint Thomas  price    1.169000e+06\n",
       "Virginia        Chincoteague  price    7.500000e+04\n",
       "Length: 582, dtype: float64"
      ]
     },
     "execution_count": 13,
     "metadata": {},
     "output_type": "execute_result"
    }
   ],
   "source": [
    "# Agora vamos para o exemplo Stack\n",
    "# Veja que a coluna price, se tornou um indice \n",
    "# Então o comando pega uma coluna e adiciona ao conjunto de index\n",
    "\n",
    "df_sum.stack()"
   ]
  },
  {
   "cell_type": "code",
   "execution_count": 16,
   "metadata": {},
   "outputs": [
    {
     "data": {
      "text/html": [
       "<div>\n",
       "<style scoped>\n",
       "    .dataframe tbody tr th:only-of-type {\n",
       "        vertical-align: middle;\n",
       "    }\n",
       "\n",
       "    .dataframe tbody tr th {\n",
       "        vertical-align: top;\n",
       "    }\n",
       "\n",
       "    .dataframe thead th {\n",
       "        text-align: right;\n",
       "    }\n",
       "</style>\n",
       "<table border=\"1\" class=\"dataframe\">\n",
       "  <thead>\n",
       "    <tr style=\"text-align: right;\">\n",
       "      <th></th>\n",
       "      <th></th>\n",
       "      <th></th>\n",
       "      <th>0</th>\n",
       "    </tr>\n",
       "    <tr>\n",
       "      <th>state</th>\n",
       "      <th>city</th>\n",
       "      <th></th>\n",
       "      <th></th>\n",
       "    </tr>\n",
       "  </thead>\n",
       "  <tbody>\n",
       "    <tr>\n",
       "      <th rowspan=\"5\" valign=\"top\">Connecticut</th>\n",
       "      <th>Andover</th>\n",
       "      <th>price</th>\n",
       "      <td>2.492542e+05</td>\n",
       "    </tr>\n",
       "    <tr>\n",
       "      <th>Ashford</th>\n",
       "      <th>price</th>\n",
       "      <td>2.849269e+05</td>\n",
       "    </tr>\n",
       "    <tr>\n",
       "      <th>Avon</th>\n",
       "      <th>price</th>\n",
       "      <td>6.070604e+05</td>\n",
       "    </tr>\n",
       "    <tr>\n",
       "      <th>Barkhamsted</th>\n",
       "      <th>price</th>\n",
       "      <td>3.752788e+05</td>\n",
       "    </tr>\n",
       "    <tr>\n",
       "      <th>Berlin</th>\n",
       "      <th>price</th>\n",
       "      <td>3.484531e+05</td>\n",
       "    </tr>\n",
       "    <tr>\n",
       "      <th>...</th>\n",
       "      <th>...</th>\n",
       "      <th>...</th>\n",
       "      <td>...</td>\n",
       "    </tr>\n",
       "    <tr>\n",
       "      <th rowspan=\"4\" valign=\"top\">Virgin Islands</th>\n",
       "      <th>Frederiksted</th>\n",
       "      <th>price</th>\n",
       "      <td>7.014767e+05</td>\n",
       "    </tr>\n",
       "    <tr>\n",
       "      <th>Kingshill</th>\n",
       "      <th>price</th>\n",
       "      <td>4.578320e+05</td>\n",
       "    </tr>\n",
       "    <tr>\n",
       "      <th>Saint John</th>\n",
       "      <th>price</th>\n",
       "      <td>1.003303e+06</td>\n",
       "    </tr>\n",
       "    <tr>\n",
       "      <th>Saint Thomas</th>\n",
       "      <th>price</th>\n",
       "      <td>1.169000e+06</td>\n",
       "    </tr>\n",
       "    <tr>\n",
       "      <th>Virginia</th>\n",
       "      <th>Chincoteague</th>\n",
       "      <th>price</th>\n",
       "      <td>7.500000e+04</td>\n",
       "    </tr>\n",
       "  </tbody>\n",
       "</table>\n",
       "<p>582 rows × 1 columns</p>\n",
       "</div>"
      ],
      "text/plain": [
       "                                              0\n",
       "state          city                            \n",
       "Connecticut    Andover      price  2.492542e+05\n",
       "               Ashford      price  2.849269e+05\n",
       "               Avon         price  6.070604e+05\n",
       "               Barkhamsted  price  3.752788e+05\n",
       "               Berlin       price  3.484531e+05\n",
       "...                                         ...\n",
       "Virgin Islands Frederiksted price  7.014767e+05\n",
       "               Kingshill    price  4.578320e+05\n",
       "               Saint John   price  1.003303e+06\n",
       "               Saint Thomas price  1.169000e+06\n",
       "Virginia       Chincoteague price  7.500000e+04\n",
       "\n",
       "[582 rows x 1 columns]"
      ]
     },
     "execution_count": 16,
     "metadata": {},
     "output_type": "execute_result"
    }
   ],
   "source": [
    "df_stack = pd.DataFrame(df_sum.stack())\n",
    "\n",
    "df_stack"
   ]
  },
  {
   "cell_type": "code",
   "execution_count": 18,
   "metadata": {},
   "outputs": [
    {
     "data": {
      "text/plain": [
       "MultiIndex([(   'Connecticut',       'Andover', 'price'),\n",
       "            (   'Connecticut',       'Ashford', 'price'),\n",
       "            (   'Connecticut',          'Avon', 'price'),\n",
       "            (   'Connecticut',   'Barkhamsted', 'price'),\n",
       "            (   'Connecticut',        'Berlin', 'price'),\n",
       "            (   'Connecticut',     'Bethlehem', 'price'),\n",
       "            (   'Connecticut',    'Bloomfield', 'price'),\n",
       "            (   'Connecticut',        'Bolton', 'price'),\n",
       "            (   'Connecticut',        'Bozrah', 'price'),\n",
       "            (   'Connecticut',       'Bristol', 'price'),\n",
       "            ...\n",
       "            (       'Vermont',    'Whitingham', 'price'),\n",
       "            (       'Vermont',    'Wilmington', 'price'),\n",
       "            (       'Vermont',       'Winhall', 'price'),\n",
       "            (       'Vermont',      'Woodford', 'price'),\n",
       "            ('Virgin Islands', 'Christiansted', 'price'),\n",
       "            ('Virgin Islands',  'Frederiksted', 'price'),\n",
       "            ('Virgin Islands',     'Kingshill', 'price'),\n",
       "            ('Virgin Islands',    'Saint John', 'price'),\n",
       "            ('Virgin Islands',  'Saint Thomas', 'price'),\n",
       "            (      'Virginia',  'Chincoteague', 'price')],\n",
       "           names=['state', 'city', None], length=582)"
      ]
     },
     "execution_count": 18,
     "metadata": {},
     "output_type": "execute_result"
    }
   ],
   "source": [
    "# Então o comando pega uma coluna e adiciona ao conjunto de index\n",
    "\n",
    "df_stack.index"
   ]
  },
  {
   "cell_type": "code",
   "execution_count": 19,
   "metadata": {},
   "outputs": [
    {
     "data": {
      "text/plain": [
       "RangeIndex(start=0, stop=100000, step=1)"
      ]
     },
     "execution_count": 19,
     "metadata": {},
     "output_type": "execute_result"
    }
   ],
   "source": [
    "# veja os indices do dataframe bruto - csv\n",
    "\n",
    "df.index"
   ]
  },
  {
   "cell_type": "code",
   "execution_count": 20,
   "metadata": {},
   "outputs": [
    {
     "data": {
      "text/html": [
       "<div>\n",
       "<style scoped>\n",
       "    .dataframe tbody tr th:only-of-type {\n",
       "        vertical-align: middle;\n",
       "    }\n",
       "\n",
       "    .dataframe tbody tr th {\n",
       "        vertical-align: top;\n",
       "    }\n",
       "\n",
       "    .dataframe thead tr th {\n",
       "        text-align: left;\n",
       "    }\n",
       "\n",
       "    .dataframe thead tr:last-of-type th {\n",
       "        text-align: right;\n",
       "    }\n",
       "</style>\n",
       "<table border=\"1\" class=\"dataframe\">\n",
       "  <thead>\n",
       "    <tr>\n",
       "      <th></th>\n",
       "      <th></th>\n",
       "      <th>0</th>\n",
       "    </tr>\n",
       "    <tr>\n",
       "      <th></th>\n",
       "      <th></th>\n",
       "      <th>price</th>\n",
       "    </tr>\n",
       "    <tr>\n",
       "      <th>state</th>\n",
       "      <th>city</th>\n",
       "      <th></th>\n",
       "    </tr>\n",
       "  </thead>\n",
       "  <tbody>\n",
       "    <tr>\n",
       "      <th rowspan=\"5\" valign=\"top\">Connecticut</th>\n",
       "      <th>Andover</th>\n",
       "      <td>2.492542e+05</td>\n",
       "    </tr>\n",
       "    <tr>\n",
       "      <th>Ashford</th>\n",
       "      <td>2.849269e+05</td>\n",
       "    </tr>\n",
       "    <tr>\n",
       "      <th>Avon</th>\n",
       "      <td>6.070604e+05</td>\n",
       "    </tr>\n",
       "    <tr>\n",
       "      <th>Barkhamsted</th>\n",
       "      <td>3.752788e+05</td>\n",
       "    </tr>\n",
       "    <tr>\n",
       "      <th>Berlin</th>\n",
       "      <td>3.484531e+05</td>\n",
       "    </tr>\n",
       "    <tr>\n",
       "      <th>...</th>\n",
       "      <th>...</th>\n",
       "      <td>...</td>\n",
       "    </tr>\n",
       "    <tr>\n",
       "      <th rowspan=\"4\" valign=\"top\">Virgin Islands</th>\n",
       "      <th>Frederiksted</th>\n",
       "      <td>7.014767e+05</td>\n",
       "    </tr>\n",
       "    <tr>\n",
       "      <th>Kingshill</th>\n",
       "      <td>4.578320e+05</td>\n",
       "    </tr>\n",
       "    <tr>\n",
       "      <th>Saint John</th>\n",
       "      <td>1.003303e+06</td>\n",
       "    </tr>\n",
       "    <tr>\n",
       "      <th>Saint Thomas</th>\n",
       "      <td>1.169000e+06</td>\n",
       "    </tr>\n",
       "    <tr>\n",
       "      <th>Virginia</th>\n",
       "      <th>Chincoteague</th>\n",
       "      <td>7.500000e+04</td>\n",
       "    </tr>\n",
       "  </tbody>\n",
       "</table>\n",
       "<p>582 rows × 1 columns</p>\n",
       "</div>"
      ],
      "text/plain": [
       "                                        0\n",
       "                                    price\n",
       "state          city                      \n",
       "Connecticut    Andover       2.492542e+05\n",
       "               Ashford       2.849269e+05\n",
       "               Avon          6.070604e+05\n",
       "               Barkhamsted   3.752788e+05\n",
       "               Berlin        3.484531e+05\n",
       "...                                   ...\n",
       "Virgin Islands Frederiksted  7.014767e+05\n",
       "               Kingshill     4.578320e+05\n",
       "               Saint John    1.003303e+06\n",
       "               Saint Thomas  1.169000e+06\n",
       "Virginia       Chincoteague  7.500000e+04\n",
       "\n",
       "[582 rows x 1 columns]"
      ]
     },
     "execution_count": 20,
     "metadata": {},
     "output_type": "execute_result"
    }
   ],
   "source": [
    "#Agora realizando um Unstack o Price volta a se tornar coluna da variavel média do preço\n",
    "\n",
    "df_stack.unstack()"
   ]
  },
  {
   "cell_type": "markdown",
   "metadata": {},
   "source": [
    "* Novo exemplo com DataFrame ficticio "
   ]
  },
  {
   "cell_type": "code",
   "execution_count": 21,
   "metadata": {},
   "outputs": [
    {
     "data": {
      "text/html": [
       "<div>\n",
       "<style scoped>\n",
       "    .dataframe tbody tr th:only-of-type {\n",
       "        vertical-align: middle;\n",
       "    }\n",
       "\n",
       "    .dataframe tbody tr th {\n",
       "        vertical-align: top;\n",
       "    }\n",
       "\n",
       "    .dataframe thead th {\n",
       "        text-align: right;\n",
       "    }\n",
       "</style>\n",
       "<table border=\"1\" class=\"dataframe\">\n",
       "  <thead>\n",
       "    <tr style=\"text-align: right;\">\n",
       "      <th></th>\n",
       "      <th>Valor1</th>\n",
       "      <th>Valor2</th>\n",
       "    </tr>\n",
       "  </thead>\n",
       "  <tbody>\n",
       "    <tr>\n",
       "      <th>0</th>\n",
       "      <td>1</td>\n",
       "      <td>5</td>\n",
       "    </tr>\n",
       "    <tr>\n",
       "      <th>1</th>\n",
       "      <td>2</td>\n",
       "      <td>6</td>\n",
       "    </tr>\n",
       "    <tr>\n",
       "      <th>2</th>\n",
       "      <td>3</td>\n",
       "      <td>7</td>\n",
       "    </tr>\n",
       "    <tr>\n",
       "      <th>3</th>\n",
       "      <td>4</td>\n",
       "      <td>8</td>\n",
       "    </tr>\n",
       "  </tbody>\n",
       "</table>\n",
       "</div>"
      ],
      "text/plain": [
       "   Valor1  Valor2\n",
       "0       1       5\n",
       "1       2       6\n",
       "2       3       7\n",
       "3       4       8"
      ]
     },
     "execution_count": 21,
     "metadata": {},
     "output_type": "execute_result"
    }
   ],
   "source": [
    "\n",
    "# df_ex = Nome da variavel dataframe \n",
    "# pd.DataFrame = pd (modulo) DataFrame (classe)\n",
    "# {} dentro está sendo colocado os nomes das coluna \n",
    "# [] dentro está sendo colocado os valores \n",
    "\n",
    "df_ex = pd.DataFrame({'Valor1':[1,2,3,4], 'Valor2': [5,6,7,8]})\n",
    "\n",
    "df_ex"
   ]
  },
  {
   "cell_type": "code",
   "execution_count": 22,
   "metadata": {},
   "outputs": [
    {
     "data": {
      "text/plain": [
       "0  Valor1    1\n",
       "   Valor2    5\n",
       "1  Valor1    2\n",
       "   Valor2    6\n",
       "2  Valor1    3\n",
       "   Valor2    7\n",
       "3  Valor1    4\n",
       "   Valor2    8\n",
       "dtype: int64"
      ]
     },
     "execution_count": 22,
     "metadata": {},
     "output_type": "execute_result"
    }
   ],
   "source": [
    "df_ex.stack()\n",
    "\n",
    "# Realizado o stack veja que as colunas se tornaram indices \n",
    "\n",
    "# Retorou uma unica coluna, com essas categorias e uma outra coluna com os valores"
   ]
  },
  {
   "cell_type": "code",
   "execution_count": 23,
   "metadata": {},
   "outputs": [
    {
     "data": {
      "text/html": [
       "<div>\n",
       "<style scoped>\n",
       "    .dataframe tbody tr th:only-of-type {\n",
       "        vertical-align: middle;\n",
       "    }\n",
       "\n",
       "    .dataframe tbody tr th {\n",
       "        vertical-align: top;\n",
       "    }\n",
       "\n",
       "    .dataframe thead th {\n",
       "        text-align: right;\n",
       "    }\n",
       "</style>\n",
       "<table border=\"1\" class=\"dataframe\">\n",
       "  <thead>\n",
       "    <tr style=\"text-align: right;\">\n",
       "      <th></th>\n",
       "      <th></th>\n",
       "      <th>0</th>\n",
       "    </tr>\n",
       "  </thead>\n",
       "  <tbody>\n",
       "    <tr>\n",
       "      <th rowspan=\"2\" valign=\"top\">0</th>\n",
       "      <th>Valor1</th>\n",
       "      <td>1</td>\n",
       "    </tr>\n",
       "    <tr>\n",
       "      <th>Valor2</th>\n",
       "      <td>5</td>\n",
       "    </tr>\n",
       "    <tr>\n",
       "      <th rowspan=\"2\" valign=\"top\">1</th>\n",
       "      <th>Valor1</th>\n",
       "      <td>2</td>\n",
       "    </tr>\n",
       "    <tr>\n",
       "      <th>Valor2</th>\n",
       "      <td>6</td>\n",
       "    </tr>\n",
       "    <tr>\n",
       "      <th rowspan=\"2\" valign=\"top\">2</th>\n",
       "      <th>Valor1</th>\n",
       "      <td>3</td>\n",
       "    </tr>\n",
       "    <tr>\n",
       "      <th>Valor2</th>\n",
       "      <td>7</td>\n",
       "    </tr>\n",
       "    <tr>\n",
       "      <th rowspan=\"2\" valign=\"top\">3</th>\n",
       "      <th>Valor1</th>\n",
       "      <td>4</td>\n",
       "    </tr>\n",
       "    <tr>\n",
       "      <th>Valor2</th>\n",
       "      <td>8</td>\n",
       "    </tr>\n",
       "  </tbody>\n",
       "</table>\n",
       "</div>"
      ],
      "text/plain": [
       "          0\n",
       "0 Valor1  1\n",
       "  Valor2  5\n",
       "1 Valor1  2\n",
       "  Valor2  6\n",
       "2 Valor1  3\n",
       "  Valor2  7\n",
       "3 Valor1  4\n",
       "  Valor2  8"
      ]
     },
     "execution_count": 23,
     "metadata": {},
     "output_type": "execute_result"
    }
   ],
   "source": [
    "pd.DataFrame(df_ex.stack())"
   ]
  },
  {
   "cell_type": "code",
   "execution_count": 24,
   "metadata": {},
   "outputs": [
    {
     "data": {
      "text/plain": [
       "MultiIndex([(0, 'Valor1'),\n",
       "            (0, 'Valor2'),\n",
       "            (1, 'Valor1'),\n",
       "            (1, 'Valor2'),\n",
       "            (2, 'Valor1'),\n",
       "            (2, 'Valor2'),\n",
       "            (3, 'Valor1'),\n",
       "            (3, 'Valor2')],\n",
       "           )"
      ]
     },
     "execution_count": 24,
     "metadata": {},
     "output_type": "execute_result"
    }
   ],
   "source": [
    "pd.DataFrame(df_ex.stack()).index"
   ]
  },
  {
   "cell_type": "code",
   "execution_count": 25,
   "metadata": {},
   "outputs": [
    {
     "data": {
      "text/html": [
       "<div>\n",
       "<style scoped>\n",
       "    .dataframe tbody tr th:only-of-type {\n",
       "        vertical-align: middle;\n",
       "    }\n",
       "\n",
       "    .dataframe tbody tr th {\n",
       "        vertical-align: top;\n",
       "    }\n",
       "\n",
       "    .dataframe thead th {\n",
       "        text-align: right;\n",
       "    }\n",
       "</style>\n",
       "<table border=\"1\" class=\"dataframe\">\n",
       "  <thead>\n",
       "    <tr style=\"text-align: right;\">\n",
       "      <th></th>\n",
       "      <th>level_0</th>\n",
       "      <th>level_1</th>\n",
       "      <th>0</th>\n",
       "    </tr>\n",
       "  </thead>\n",
       "  <tbody>\n",
       "    <tr>\n",
       "      <th>0</th>\n",
       "      <td>0</td>\n",
       "      <td>Valor1</td>\n",
       "      <td>1</td>\n",
       "    </tr>\n",
       "    <tr>\n",
       "      <th>1</th>\n",
       "      <td>0</td>\n",
       "      <td>Valor2</td>\n",
       "      <td>5</td>\n",
       "    </tr>\n",
       "    <tr>\n",
       "      <th>2</th>\n",
       "      <td>1</td>\n",
       "      <td>Valor1</td>\n",
       "      <td>2</td>\n",
       "    </tr>\n",
       "    <tr>\n",
       "      <th>3</th>\n",
       "      <td>1</td>\n",
       "      <td>Valor2</td>\n",
       "      <td>6</td>\n",
       "    </tr>\n",
       "    <tr>\n",
       "      <th>4</th>\n",
       "      <td>2</td>\n",
       "      <td>Valor1</td>\n",
       "      <td>3</td>\n",
       "    </tr>\n",
       "    <tr>\n",
       "      <th>5</th>\n",
       "      <td>2</td>\n",
       "      <td>Valor2</td>\n",
       "      <td>7</td>\n",
       "    </tr>\n",
       "    <tr>\n",
       "      <th>6</th>\n",
       "      <td>3</td>\n",
       "      <td>Valor1</td>\n",
       "      <td>4</td>\n",
       "    </tr>\n",
       "    <tr>\n",
       "      <th>7</th>\n",
       "      <td>3</td>\n",
       "      <td>Valor2</td>\n",
       "      <td>8</td>\n",
       "    </tr>\n",
       "  </tbody>\n",
       "</table>\n",
       "</div>"
      ],
      "text/plain": [
       "   level_0 level_1  0\n",
       "0        0  Valor1  1\n",
       "1        0  Valor2  5\n",
       "2        1  Valor1  2\n",
       "3        1  Valor2  6\n",
       "4        2  Valor1  3\n",
       "5        2  Valor2  7\n",
       "6        3  Valor1  4\n",
       "7        3  Valor2  8"
      ]
     },
     "execution_count": 25,
     "metadata": {},
     "output_type": "execute_result"
    }
   ],
   "source": [
    "pd.DataFrame(df_ex.stack()).reset_index()"
   ]
  },
  {
   "cell_type": "code",
   "execution_count": 26,
   "metadata": {},
   "outputs": [
    {
     "data": {
      "text/html": [
       "<div>\n",
       "<style scoped>\n",
       "    .dataframe tbody tr th:only-of-type {\n",
       "        vertical-align: middle;\n",
       "    }\n",
       "\n",
       "    .dataframe tbody tr th {\n",
       "        vertical-align: top;\n",
       "    }\n",
       "\n",
       "    .dataframe thead th {\n",
       "        text-align: right;\n",
       "    }\n",
       "</style>\n",
       "<table border=\"1\" class=\"dataframe\">\n",
       "  <thead>\n",
       "    <tr style=\"text-align: right;\">\n",
       "      <th></th>\n",
       "      <th>level_1</th>\n",
       "      <th>0</th>\n",
       "    </tr>\n",
       "  </thead>\n",
       "  <tbody>\n",
       "    <tr>\n",
       "      <th>0</th>\n",
       "      <td>Valor1</td>\n",
       "      <td>1</td>\n",
       "    </tr>\n",
       "    <tr>\n",
       "      <th>0</th>\n",
       "      <td>Valor2</td>\n",
       "      <td>5</td>\n",
       "    </tr>\n",
       "    <tr>\n",
       "      <th>1</th>\n",
       "      <td>Valor1</td>\n",
       "      <td>2</td>\n",
       "    </tr>\n",
       "    <tr>\n",
       "      <th>1</th>\n",
       "      <td>Valor2</td>\n",
       "      <td>6</td>\n",
       "    </tr>\n",
       "    <tr>\n",
       "      <th>2</th>\n",
       "      <td>Valor1</td>\n",
       "      <td>3</td>\n",
       "    </tr>\n",
       "    <tr>\n",
       "      <th>2</th>\n",
       "      <td>Valor2</td>\n",
       "      <td>7</td>\n",
       "    </tr>\n",
       "    <tr>\n",
       "      <th>3</th>\n",
       "      <td>Valor1</td>\n",
       "      <td>4</td>\n",
       "    </tr>\n",
       "    <tr>\n",
       "      <th>3</th>\n",
       "      <td>Valor2</td>\n",
       "      <td>8</td>\n",
       "    </tr>\n",
       "  </tbody>\n",
       "</table>\n",
       "</div>"
      ],
      "text/plain": [
       "  level_1  0\n",
       "0  Valor1  1\n",
       "0  Valor2  5\n",
       "1  Valor1  2\n",
       "1  Valor2  6\n",
       "2  Valor1  3\n",
       "2  Valor2  7\n",
       "3  Valor1  4\n",
       "3  Valor2  8"
      ]
     },
     "execution_count": 26,
     "metadata": {},
     "output_type": "execute_result"
    }
   ],
   "source": [
    "pd.DataFrame(df_ex.stack()).reset_index(level=1)"
   ]
  },
  {
   "cell_type": "markdown",
   "metadata": {},
   "source": [
    "* **Exemplo do Explode**"
   ]
  },
  {
   "cell_type": "code",
   "execution_count": 28,
   "metadata": {},
   "outputs": [
    {
     "name": "stdout",
     "output_type": "stream",
     "text": [
      "['Ted Joao', 'Ted Maria', 'Ted Marcos']\n",
      "[['saude', 'alimentação'], ['Esporte', 'Corrida', 'Competição'], ['Cursos', 'Tecnologia']]\n"
     ]
    }
   ],
   "source": [
    "teds = ['Ted Joao', 'Ted Maria', 'Ted Marcos']\n",
    "tags = [['saude', 'alimentação'], ['Esporte', 'Corrida', 'Competição'], ['Cursos', 'Tecnologia']]\n",
    "\n",
    "print(teds)\n",
    "print(tags)"
   ]
  },
  {
   "cell_type": "code",
   "execution_count": 32,
   "metadata": {},
   "outputs": [],
   "source": [
    "df_ex2 = pd.DataFrame({'TED': teds, 'Tags': tags })"
   ]
  },
  {
   "cell_type": "code",
   "execution_count": 33,
   "metadata": {},
   "outputs": [
    {
     "data": {
      "text/html": [
       "<div>\n",
       "<style scoped>\n",
       "    .dataframe tbody tr th:only-of-type {\n",
       "        vertical-align: middle;\n",
       "    }\n",
       "\n",
       "    .dataframe tbody tr th {\n",
       "        vertical-align: top;\n",
       "    }\n",
       "\n",
       "    .dataframe thead th {\n",
       "        text-align: right;\n",
       "    }\n",
       "</style>\n",
       "<table border=\"1\" class=\"dataframe\">\n",
       "  <thead>\n",
       "    <tr style=\"text-align: right;\">\n",
       "      <th></th>\n",
       "      <th>TED</th>\n",
       "      <th>Tags</th>\n",
       "    </tr>\n",
       "  </thead>\n",
       "  <tbody>\n",
       "    <tr>\n",
       "      <th>0</th>\n",
       "      <td>Ted Joao</td>\n",
       "      <td>[saude, alimentação]</td>\n",
       "    </tr>\n",
       "    <tr>\n",
       "      <th>1</th>\n",
       "      <td>Ted Maria</td>\n",
       "      <td>[Esporte, Corrida, Competição]</td>\n",
       "    </tr>\n",
       "    <tr>\n",
       "      <th>2</th>\n",
       "      <td>Ted Marcos</td>\n",
       "      <td>[Cursos, Tecnologia]</td>\n",
       "    </tr>\n",
       "  </tbody>\n",
       "</table>\n",
       "</div>"
      ],
      "text/plain": [
       "          TED                            Tags\n",
       "0    Ted Joao            [saude, alimentação]\n",
       "1   Ted Maria  [Esporte, Corrida, Competição]\n",
       "2  Ted Marcos            [Cursos, Tecnologia]"
      ]
     },
     "execution_count": 33,
     "metadata": {},
     "output_type": "execute_result"
    }
   ],
   "source": [
    "df_ex2"
   ]
  },
  {
   "cell_type": "code",
   "execution_count": 34,
   "metadata": {},
   "outputs": [
    {
     "data": {
      "text/html": [
       "<div>\n",
       "<style scoped>\n",
       "    .dataframe tbody tr th:only-of-type {\n",
       "        vertical-align: middle;\n",
       "    }\n",
       "\n",
       "    .dataframe tbody tr th {\n",
       "        vertical-align: top;\n",
       "    }\n",
       "\n",
       "    .dataframe thead th {\n",
       "        text-align: right;\n",
       "    }\n",
       "</style>\n",
       "<table border=\"1\" class=\"dataframe\">\n",
       "  <thead>\n",
       "    <tr style=\"text-align: right;\">\n",
       "      <th></th>\n",
       "      <th>TED</th>\n",
       "      <th>Tags</th>\n",
       "    </tr>\n",
       "  </thead>\n",
       "  <tbody>\n",
       "    <tr>\n",
       "      <th>0</th>\n",
       "      <td>Ted Joao</td>\n",
       "      <td>saude</td>\n",
       "    </tr>\n",
       "    <tr>\n",
       "      <th>0</th>\n",
       "      <td>Ted Joao</td>\n",
       "      <td>alimentação</td>\n",
       "    </tr>\n",
       "    <tr>\n",
       "      <th>1</th>\n",
       "      <td>Ted Maria</td>\n",
       "      <td>Esporte</td>\n",
       "    </tr>\n",
       "    <tr>\n",
       "      <th>1</th>\n",
       "      <td>Ted Maria</td>\n",
       "      <td>Corrida</td>\n",
       "    </tr>\n",
       "    <tr>\n",
       "      <th>1</th>\n",
       "      <td>Ted Maria</td>\n",
       "      <td>Competição</td>\n",
       "    </tr>\n",
       "    <tr>\n",
       "      <th>2</th>\n",
       "      <td>Ted Marcos</td>\n",
       "      <td>Cursos</td>\n",
       "    </tr>\n",
       "    <tr>\n",
       "      <th>2</th>\n",
       "      <td>Ted Marcos</td>\n",
       "      <td>Tecnologia</td>\n",
       "    </tr>\n",
       "  </tbody>\n",
       "</table>\n",
       "</div>"
      ],
      "text/plain": [
       "          TED         Tags\n",
       "0    Ted Joao        saude\n",
       "0    Ted Joao  alimentação\n",
       "1   Ted Maria      Esporte\n",
       "1   Ted Maria      Corrida\n",
       "1   Ted Maria   Competição\n",
       "2  Ted Marcos       Cursos\n",
       "2  Ted Marcos   Tecnologia"
      ]
     },
     "execution_count": 34,
     "metadata": {},
     "output_type": "execute_result"
    }
   ],
   "source": [
    "df_ex2.explode('Tags')"
   ]
  },
  {
   "cell_type": "code",
   "execution_count": 35,
   "metadata": {},
   "outputs": [
    {
     "data": {
      "text/plain": [
       "TED         Tags       \n",
       "Ted Joao    alimentação    1\n",
       "            saude          1\n",
       "Ted Marcos  Cursos         1\n",
       "            Tecnologia     1\n",
       "Ted Maria   Competição     1\n",
       "            Corrida        1\n",
       "            Esporte        1\n",
       "Name: count, dtype: int64"
      ]
     },
     "execution_count": 35,
     "metadata": {},
     "output_type": "execute_result"
    }
   ],
   "source": [
    "df_ex2.explode('Tags').value_counts()\n"
   ]
  },
  {
   "cell_type": "code",
   "execution_count": 36,
   "metadata": {},
   "outputs": [
    {
     "data": {
      "text/plain": [
       "Tags\n",
       "saude          1\n",
       "alimentação    1\n",
       "Esporte        1\n",
       "Corrida        1\n",
       "Competição     1\n",
       "Cursos         1\n",
       "Tecnologia     1\n",
       "Name: count, dtype: int64"
      ]
     },
     "execution_count": 36,
     "metadata": {},
     "output_type": "execute_result"
    }
   ],
   "source": [
    "df_ex2.explode('Tags')['Tags'].value_counts()"
   ]
  },
  {
   "cell_type": "code",
   "execution_count": 37,
   "metadata": {},
   "outputs": [
    {
     "data": {
      "text/html": [
       "<div>\n",
       "<style scoped>\n",
       "    .dataframe tbody tr th:only-of-type {\n",
       "        vertical-align: middle;\n",
       "    }\n",
       "\n",
       "    .dataframe tbody tr th {\n",
       "        vertical-align: top;\n",
       "    }\n",
       "\n",
       "    .dataframe thead th {\n",
       "        text-align: right;\n",
       "    }\n",
       "</style>\n",
       "<table border=\"1\" class=\"dataframe\">\n",
       "  <thead>\n",
       "    <tr style=\"text-align: right;\">\n",
       "      <th></th>\n",
       "      <th>TED</th>\n",
       "      <th>Tags</th>\n",
       "    </tr>\n",
       "  </thead>\n",
       "  <tbody>\n",
       "    <tr>\n",
       "      <th>0</th>\n",
       "      <td>Ted Joao</td>\n",
       "      <td>[saude, alimentação]</td>\n",
       "    </tr>\n",
       "    <tr>\n",
       "      <th>1</th>\n",
       "      <td>Ted Maria</td>\n",
       "      <td>[Esporte, Corrida, Competição, alimentação]</td>\n",
       "    </tr>\n",
       "    <tr>\n",
       "      <th>2</th>\n",
       "      <td>Ted Marcos</td>\n",
       "      <td>[Cursos, Tecnologia]</td>\n",
       "    </tr>\n",
       "  </tbody>\n",
       "</table>\n",
       "</div>"
      ],
      "text/plain": [
       "          TED                                         Tags\n",
       "0    Ted Joao                         [saude, alimentação]\n",
       "1   Ted Maria  [Esporte, Corrida, Competição, alimentação]\n",
       "2  Ted Marcos                         [Cursos, Tecnologia]"
      ]
     },
     "execution_count": 37,
     "metadata": {},
     "output_type": "execute_result"
    }
   ],
   "source": [
    "# ex2 \n",
    "\n",
    "teds2 = ['Ted Joao', 'Ted Maria', 'Ted Marcos']\n",
    "tags2 = [['saude', 'alimentação'], ['Esporte', 'Corrida', 'Competição', 'alimentação'], ['Cursos', 'Tecnologia']]\n",
    "\n",
    "df_exx2 = pd.DataFrame({'TED': teds2, 'Tags': tags2 })\n",
    "\n",
    "df_exx2"
   ]
  },
  {
   "cell_type": "code",
   "execution_count": 38,
   "metadata": {},
   "outputs": [
    {
     "data": {
      "text/plain": [
       "TED         Tags       \n",
       "Ted Joao    alimentação    1\n",
       "            saude          1\n",
       "Ted Marcos  Cursos         1\n",
       "            Tecnologia     1\n",
       "Ted Maria   Competição     1\n",
       "            Corrida        1\n",
       "            Esporte        1\n",
       "            alimentação    1\n",
       "Name: count, dtype: int64"
      ]
     },
     "execution_count": 38,
     "metadata": {},
     "output_type": "execute_result"
    }
   ],
   "source": [
    "df_exx2.explode('Tags').value_counts()"
   ]
  },
  {
   "cell_type": "code",
   "execution_count": 40,
   "metadata": {},
   "outputs": [
    {
     "data": {
      "text/plain": [
       "Tags\n",
       "alimentação    2\n",
       "saude          1\n",
       "Esporte        1\n",
       "Corrida        1\n",
       "Competição     1\n",
       "Cursos         1\n",
       "Tecnologia     1\n",
       "Name: count, dtype: int64"
      ]
     },
     "execution_count": 40,
     "metadata": {},
     "output_type": "execute_result"
    }
   ],
   "source": [
    "df_exx2.explode('Tags')['Tags'].value_counts()"
   ]
  },
  {
   "cell_type": "markdown",
   "metadata": {},
   "source": [
    "#### Pivot"
   ]
  },
  {
   "cell_type": "markdown",
   "metadata": {},
   "source": [
    "A função pivot() retorna um novo DataFrame com a estrutura pivotada, onde os valores únicos da coluna especificada em colunis se tornam as colunas distintas, e os valores da coluna especificada em values são distribuídos nessas colunas. \n",
    "\n",
    "![Alt text](<Captura de tela 2023-09-17 234715.png>)"
   ]
  },
  {
   "cell_type": "markdown",
   "metadata": {},
   "source": [
    "A função pivot() retorna um novo DataFrame com a estrutura pivotada, onde os valores únicos da coluna especificada em columns se tornam as colunas distintas, e os valores da coluna especificada em values são distribuídos nessas colunas\n",
    "\n",
    "![Screenshot_2.png](data:image/png;base64,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)\n"
   ]
  },
  {
   "cell_type": "code",
   "execution_count": 1,
   "metadata": {},
   "outputs": [],
   "source": [
    "import seaborn as sns"
   ]
  },
  {
   "cell_type": "code",
   "execution_count": 2,
   "metadata": {},
   "outputs": [],
   "source": [
    "df_sns = sns.load_dataset('glue')"
   ]
  },
  {
   "cell_type": "code",
   "execution_count": 3,
   "metadata": {},
   "outputs": [
    {
     "data": {
      "text/html": [
       "<div>\n",
       "<style scoped>\n",
       "    .dataframe tbody tr th:only-of-type {\n",
       "        vertical-align: middle;\n",
       "    }\n",
       "\n",
       "    .dataframe tbody tr th {\n",
       "        vertical-align: top;\n",
       "    }\n",
       "\n",
       "    .dataframe thead th {\n",
       "        text-align: right;\n",
       "    }\n",
       "</style>\n",
       "<table border=\"1\" class=\"dataframe\">\n",
       "  <thead>\n",
       "    <tr style=\"text-align: right;\">\n",
       "      <th></th>\n",
       "      <th>Model</th>\n",
       "      <th>Year</th>\n",
       "      <th>Encoder</th>\n",
       "      <th>Task</th>\n",
       "      <th>Score</th>\n",
       "    </tr>\n",
       "  </thead>\n",
       "  <tbody>\n",
       "    <tr>\n",
       "      <th>0</th>\n",
       "      <td>ERNIE</td>\n",
       "      <td>2019</td>\n",
       "      <td>Transformer</td>\n",
       "      <td>CoLA</td>\n",
       "      <td>75.5</td>\n",
       "    </tr>\n",
       "    <tr>\n",
       "      <th>1</th>\n",
       "      <td>T5</td>\n",
       "      <td>2019</td>\n",
       "      <td>Transformer</td>\n",
       "      <td>CoLA</td>\n",
       "      <td>71.6</td>\n",
       "    </tr>\n",
       "    <tr>\n",
       "      <th>2</th>\n",
       "      <td>RoBERTa</td>\n",
       "      <td>2019</td>\n",
       "      <td>Transformer</td>\n",
       "      <td>CoLA</td>\n",
       "      <td>67.8</td>\n",
       "    </tr>\n",
       "    <tr>\n",
       "      <th>3</th>\n",
       "      <td>BERT</td>\n",
       "      <td>2018</td>\n",
       "      <td>Transformer</td>\n",
       "      <td>CoLA</td>\n",
       "      <td>60.5</td>\n",
       "    </tr>\n",
       "    <tr>\n",
       "      <th>4</th>\n",
       "      <td>BiLSTM+ELMo</td>\n",
       "      <td>2018</td>\n",
       "      <td>LSTM</td>\n",
       "      <td>CoLA</td>\n",
       "      <td>32.1</td>\n",
       "    </tr>\n",
       "    <tr>\n",
       "      <th>...</th>\n",
       "      <td>...</td>\n",
       "      <td>...</td>\n",
       "      <td>...</td>\n",
       "      <td>...</td>\n",
       "      <td>...</td>\n",
       "    </tr>\n",
       "    <tr>\n",
       "      <th>59</th>\n",
       "      <td>BERT</td>\n",
       "      <td>2018</td>\n",
       "      <td>Transformer</td>\n",
       "      <td>RTE</td>\n",
       "      <td>70.1</td>\n",
       "    </tr>\n",
       "    <tr>\n",
       "      <th>60</th>\n",
       "      <td>BiLSTM+ELMo</td>\n",
       "      <td>2018</td>\n",
       "      <td>LSTM</td>\n",
       "      <td>RTE</td>\n",
       "      <td>57.4</td>\n",
       "    </tr>\n",
       "    <tr>\n",
       "      <th>61</th>\n",
       "      <td>BiLSTM+CoVe</td>\n",
       "      <td>2017</td>\n",
       "      <td>LSTM</td>\n",
       "      <td>RTE</td>\n",
       "      <td>52.7</td>\n",
       "    </tr>\n",
       "    <tr>\n",
       "      <th>62</th>\n",
       "      <td>BiLSTM+Attn</td>\n",
       "      <td>2017</td>\n",
       "      <td>LSTM</td>\n",
       "      <td>RTE</td>\n",
       "      <td>58.4</td>\n",
       "    </tr>\n",
       "    <tr>\n",
       "      <th>63</th>\n",
       "      <td>BiLSTM</td>\n",
       "      <td>2017</td>\n",
       "      <td>LSTM</td>\n",
       "      <td>RTE</td>\n",
       "      <td>57.4</td>\n",
       "    </tr>\n",
       "  </tbody>\n",
       "</table>\n",
       "<p>64 rows × 5 columns</p>\n",
       "</div>"
      ],
      "text/plain": [
       "          Model  Year      Encoder  Task  Score\n",
       "0         ERNIE  2019  Transformer  CoLA   75.5\n",
       "1            T5  2019  Transformer  CoLA   71.6\n",
       "2       RoBERTa  2019  Transformer  CoLA   67.8\n",
       "3          BERT  2018  Transformer  CoLA   60.5\n",
       "4   BiLSTM+ELMo  2018         LSTM  CoLA   32.1\n",
       "..          ...   ...          ...   ...    ...\n",
       "59         BERT  2018  Transformer   RTE   70.1\n",
       "60  BiLSTM+ELMo  2018         LSTM   RTE   57.4\n",
       "61  BiLSTM+CoVe  2017         LSTM   RTE   52.7\n",
       "62  BiLSTM+Attn  2017         LSTM   RTE   58.4\n",
       "63       BiLSTM  2017         LSTM   RTE   57.4\n",
       "\n",
       "[64 rows x 5 columns]"
      ]
     },
     "execution_count": 3,
     "metadata": {},
     "output_type": "execute_result"
    }
   ],
   "source": [
    "df_sns"
   ]
  },
  {
   "cell_type": "code",
   "execution_count": 5,
   "metadata": {},
   "outputs": [
    {
     "data": {
      "text/html": [
       "<div>\n",
       "<style scoped>\n",
       "    .dataframe tbody tr th:only-of-type {\n",
       "        vertical-align: middle;\n",
       "    }\n",
       "\n",
       "    .dataframe tbody tr th {\n",
       "        vertical-align: top;\n",
       "    }\n",
       "\n",
       "    .dataframe thead th {\n",
       "        text-align: right;\n",
       "    }\n",
       "</style>\n",
       "<table border=\"1\" class=\"dataframe\">\n",
       "  <thead>\n",
       "    <tr style=\"text-align: right;\">\n",
       "      <th>Task</th>\n",
       "      <th>CoLA</th>\n",
       "      <th>MNLI</th>\n",
       "      <th>MRPC</th>\n",
       "      <th>QNLI</th>\n",
       "      <th>QQP</th>\n",
       "      <th>RTE</th>\n",
       "      <th>SST-2</th>\n",
       "      <th>STS-B</th>\n",
       "    </tr>\n",
       "    <tr>\n",
       "      <th>Model</th>\n",
       "      <th></th>\n",
       "      <th></th>\n",
       "      <th></th>\n",
       "      <th></th>\n",
       "      <th></th>\n",
       "      <th></th>\n",
       "      <th></th>\n",
       "      <th></th>\n",
       "    </tr>\n",
       "  </thead>\n",
       "  <tbody>\n",
       "    <tr>\n",
       "      <th>BERT</th>\n",
       "      <td>60.5</td>\n",
       "      <td>86.7</td>\n",
       "      <td>89.3</td>\n",
       "      <td>92.7</td>\n",
       "      <td>72.1</td>\n",
       "      <td>70.1</td>\n",
       "      <td>94.9</td>\n",
       "      <td>87.6</td>\n",
       "    </tr>\n",
       "    <tr>\n",
       "      <th>BiLSTM</th>\n",
       "      <td>11.6</td>\n",
       "      <td>65.6</td>\n",
       "      <td>81.8</td>\n",
       "      <td>74.6</td>\n",
       "      <td>62.5</td>\n",
       "      <td>57.4</td>\n",
       "      <td>82.8</td>\n",
       "      <td>70.3</td>\n",
       "    </tr>\n",
       "    <tr>\n",
       "      <th>BiLSTM+Attn</th>\n",
       "      <td>18.6</td>\n",
       "      <td>67.6</td>\n",
       "      <td>83.9</td>\n",
       "      <td>74.3</td>\n",
       "      <td>60.1</td>\n",
       "      <td>58.4</td>\n",
       "      <td>83.0</td>\n",
       "      <td>72.8</td>\n",
       "    </tr>\n",
       "    <tr>\n",
       "      <th>BiLSTM+CoVe</th>\n",
       "      <td>18.5</td>\n",
       "      <td>65.4</td>\n",
       "      <td>78.7</td>\n",
       "      <td>70.8</td>\n",
       "      <td>60.6</td>\n",
       "      <td>52.7</td>\n",
       "      <td>81.9</td>\n",
       "      <td>64.4</td>\n",
       "    </tr>\n",
       "    <tr>\n",
       "      <th>BiLSTM+ELMo</th>\n",
       "      <td>32.1</td>\n",
       "      <td>67.2</td>\n",
       "      <td>84.7</td>\n",
       "      <td>75.5</td>\n",
       "      <td>61.1</td>\n",
       "      <td>57.4</td>\n",
       "      <td>89.3</td>\n",
       "      <td>70.3</td>\n",
       "    </tr>\n",
       "    <tr>\n",
       "      <th>ERNIE</th>\n",
       "      <td>75.5</td>\n",
       "      <td>92.3</td>\n",
       "      <td>93.9</td>\n",
       "      <td>97.3</td>\n",
       "      <td>75.2</td>\n",
       "      <td>92.6</td>\n",
       "      <td>97.8</td>\n",
       "      <td>93.0</td>\n",
       "    </tr>\n",
       "    <tr>\n",
       "      <th>RoBERTa</th>\n",
       "      <td>67.8</td>\n",
       "      <td>90.8</td>\n",
       "      <td>92.3</td>\n",
       "      <td>95.4</td>\n",
       "      <td>74.3</td>\n",
       "      <td>88.2</td>\n",
       "      <td>96.7</td>\n",
       "      <td>92.2</td>\n",
       "    </tr>\n",
       "    <tr>\n",
       "      <th>T5</th>\n",
       "      <td>71.6</td>\n",
       "      <td>92.2</td>\n",
       "      <td>92.8</td>\n",
       "      <td>96.9</td>\n",
       "      <td>75.1</td>\n",
       "      <td>92.8</td>\n",
       "      <td>97.5</td>\n",
       "      <td>93.1</td>\n",
       "    </tr>\n",
       "  </tbody>\n",
       "</table>\n",
       "</div>"
      ],
      "text/plain": [
       "Task         CoLA  MNLI  MRPC  QNLI   QQP   RTE  SST-2  STS-B\n",
       "Model                                                        \n",
       "BERT         60.5  86.7  89.3  92.7  72.1  70.1   94.9   87.6\n",
       "BiLSTM       11.6  65.6  81.8  74.6  62.5  57.4   82.8   70.3\n",
       "BiLSTM+Attn  18.6  67.6  83.9  74.3  60.1  58.4   83.0   72.8\n",
       "BiLSTM+CoVe  18.5  65.4  78.7  70.8  60.6  52.7   81.9   64.4\n",
       "BiLSTM+ELMo  32.1  67.2  84.7  75.5  61.1  57.4   89.3   70.3\n",
       "ERNIE        75.5  92.3  93.9  97.3  75.2  92.6   97.8   93.0\n",
       "RoBERTa      67.8  90.8  92.3  95.4  74.3  88.2   96.7   92.2\n",
       "T5           71.6  92.2  92.8  96.9  75.1  92.8   97.5   93.1"
      ]
     },
     "execution_count": 5,
     "metadata": {},
     "output_type": "execute_result"
    }
   ],
   "source": [
    "# Dataframe.funçao('Index', 'Coluna', 'Valores')\n",
    "# df_sns.pivot('Model', 'Task', \"Score\")\n",
    "df_sns.pivot(index='Model', columns='Task', values='Score')"
   ]
  },
  {
   "cell_type": "code",
   "execution_count": 6,
   "metadata": {},
   "outputs": [],
   "source": [
    "df_pivot = df_sns.pivot(index='Model', columns='Task', values='Score')"
   ]
  },
  {
   "cell_type": "code",
   "execution_count": 7,
   "metadata": {},
   "outputs": [
    {
     "data": {
      "text/plain": [
       "<Axes: xlabel='Task', ylabel='Model'>"
      ]
     },
     "execution_count": 7,
     "metadata": {},
     "output_type": "execute_result"
    },
    {
     "data": {
      "image/png": "[encoded data removed]",
      "text/plain": [
       "<Figure size 640x480 with 2 Axes>"
      ]
     },
     "metadata": {},
     "output_type": "display_data"
    }
   ],
   "source": [
    "sns.heatmap(df_pivot) #Mapinha de calor\n",
    "\n",
    "# Vemos qual modelo tem melhor  desempenho de acordo com as tarefas\n",
    "# Quanto mais escuro, pior é o desempenho do modelo"
   ]
  },
  {
   "cell_type": "markdown",
   "metadata": {},
   "source": [
    "### Pivot_table\n",
    "\n",
    "A função pivot_table()permite calcular agregações de dados com base em uma ou mais colunas do DataFrame, fornecendo uma visão resumida dos dados em formato de tabela. É útil quando você precisa resumir e analisar dados de forma mais detalhada, agrupando-os e realizando cálculos de agregação com base em colunas específicas.\n",
    "\n",
    "![Screenshot_3.png](data:image/png;base64,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)"
   ]
  },
  {
   "cell_type": "markdown",
   "metadata": {},
   "source": [
    "##### Difereça entre Pivot() e Pivot_table()\n",
    "\n",
    "A função **pivot()** não permite duplicidade na combinação  de indice e coluna, se tiver duplicidade vai dar erro. Já a função **pivot_table()** permite você usar uma função de sumarização."
   ]
  },
  {
   "cell_type": "markdown",
   "metadata": {},
   "source": [
    "Exemplo"
   ]
  },
  {
   "cell_type": "code",
   "execution_count": 8,
   "metadata": {},
   "outputs": [
    {
     "data": {
      "text/html": [
       "<div>\n",
       "<style scoped>\n",
       "    .dataframe tbody tr th:only-of-type {\n",
       "        vertical-align: middle;\n",
       "    }\n",
       "\n",
       "    .dataframe tbody tr th {\n",
       "        vertical-align: top;\n",
       "    }\n",
       "\n",
       "    .dataframe thead th {\n",
       "        text-align: right;\n",
       "    }\n",
       "</style>\n",
       "<table border=\"1\" class=\"dataframe\">\n",
       "  <thead>\n",
       "    <tr style=\"text-align: right;\">\n",
       "      <th></th>\n",
       "      <th>Model</th>\n",
       "      <th>Year</th>\n",
       "      <th>Encoder</th>\n",
       "      <th>Task</th>\n",
       "      <th>Score</th>\n",
       "    </tr>\n",
       "  </thead>\n",
       "  <tbody>\n",
       "    <tr>\n",
       "      <th>0</th>\n",
       "      <td>ERNIE</td>\n",
       "      <td>2019</td>\n",
       "      <td>Transformer</td>\n",
       "      <td>CoLA</td>\n",
       "      <td>75.5</td>\n",
       "    </tr>\n",
       "    <tr>\n",
       "      <th>1</th>\n",
       "      <td>T5</td>\n",
       "      <td>2019</td>\n",
       "      <td>Transformer</td>\n",
       "      <td>CoLA</td>\n",
       "      <td>71.6</td>\n",
       "    </tr>\n",
       "    <tr>\n",
       "      <th>2</th>\n",
       "      <td>RoBERTa</td>\n",
       "      <td>2019</td>\n",
       "      <td>Transformer</td>\n",
       "      <td>CoLA</td>\n",
       "      <td>67.8</td>\n",
       "    </tr>\n",
       "    <tr>\n",
       "      <th>3</th>\n",
       "      <td>BERT</td>\n",
       "      <td>2018</td>\n",
       "      <td>Transformer</td>\n",
       "      <td>CoLA</td>\n",
       "      <td>60.5</td>\n",
       "    </tr>\n",
       "    <tr>\n",
       "      <th>4</th>\n",
       "      <td>BiLSTM+ELMo</td>\n",
       "      <td>2018</td>\n",
       "      <td>LSTM</td>\n",
       "      <td>CoLA</td>\n",
       "      <td>32.1</td>\n",
       "    </tr>\n",
       "    <tr>\n",
       "      <th>...</th>\n",
       "      <td>...</td>\n",
       "      <td>...</td>\n",
       "      <td>...</td>\n",
       "      <td>...</td>\n",
       "      <td>...</td>\n",
       "    </tr>\n",
       "    <tr>\n",
       "      <th>59</th>\n",
       "      <td>BERT</td>\n",
       "      <td>2018</td>\n",
       "      <td>Transformer</td>\n",
       "      <td>RTE</td>\n",
       "      <td>70.1</td>\n",
       "    </tr>\n",
       "    <tr>\n",
       "      <th>60</th>\n",
       "      <td>BiLSTM+ELMo</td>\n",
       "      <td>2018</td>\n",
       "      <td>LSTM</td>\n",
       "      <td>RTE</td>\n",
       "      <td>57.4</td>\n",
       "    </tr>\n",
       "    <tr>\n",
       "      <th>61</th>\n",
       "      <td>BiLSTM+CoVe</td>\n",
       "      <td>2017</td>\n",
       "      <td>LSTM</td>\n",
       "      <td>RTE</td>\n",
       "      <td>52.7</td>\n",
       "    </tr>\n",
       "    <tr>\n",
       "      <th>62</th>\n",
       "      <td>BiLSTM+Attn</td>\n",
       "      <td>2017</td>\n",
       "      <td>LSTM</td>\n",
       "      <td>RTE</td>\n",
       "      <td>58.4</td>\n",
       "    </tr>\n",
       "    <tr>\n",
       "      <th>63</th>\n",
       "      <td>BiLSTM</td>\n",
       "      <td>2017</td>\n",
       "      <td>LSTM</td>\n",
       "      <td>RTE</td>\n",
       "      <td>57.4</td>\n",
       "    </tr>\n",
       "  </tbody>\n",
       "</table>\n",
       "<p>64 rows × 5 columns</p>\n",
       "</div>"
      ],
      "text/plain": [
       "          Model  Year      Encoder  Task  Score\n",
       "0         ERNIE  2019  Transformer  CoLA   75.5\n",
       "1            T5  2019  Transformer  CoLA   71.6\n",
       "2       RoBERTa  2019  Transformer  CoLA   67.8\n",
       "3          BERT  2018  Transformer  CoLA   60.5\n",
       "4   BiLSTM+ELMo  2018         LSTM  CoLA   32.1\n",
       "..          ...   ...          ...   ...    ...\n",
       "59         BERT  2018  Transformer   RTE   70.1\n",
       "60  BiLSTM+ELMo  2018         LSTM   RTE   57.4\n",
       "61  BiLSTM+CoVe  2017         LSTM   RTE   52.7\n",
       "62  BiLSTM+Attn  2017         LSTM   RTE   58.4\n",
       "63       BiLSTM  2017         LSTM   RTE   57.4\n",
       "\n",
       "[64 rows x 5 columns]"
      ]
     },
     "execution_count": 8,
     "metadata": {},
     "output_type": "execute_result"
    }
   ],
   "source": [
    "df_sns"
   ]
  },
  {
   "cell_type": "code",
   "execution_count": 10,
   "metadata": {},
   "outputs": [
    {
     "ename": "ValueError",
     "evalue": "Index contains duplicate entries, cannot reshape",
     "output_type": "error",
     "traceback": [
      "\u001b[1;31m---------------------------------------------------------------------------\u001b[0m",
      "\u001b[1;31mValueError\u001b[0m                                Traceback (most recent call last)",
      "\u001b[1;32mc:\\Users\\regia\\OneDrive\\Documents\\curso\\Aula 14 - Data Wrangling II\\Aula 14 - Meu resumo.ipynb Célula 53\u001b[0m line \u001b[0;36m1\n\u001b[1;32m----> <a href='vscode-notebook-cell:/c%3A/Users/regia/OneDrive/Documents/curso/Aula%2014%20-%20Data%20Wrangling%20II/Aula%2014%20-%20Meu%20resumo.ipynb#Y105sZmlsZQ%3D%3D?line=0'>1</a>\u001b[0m df_sns\u001b[39m.\u001b[39;49mpivot(index\u001b[39m=\u001b[39;49m\u001b[39m'\u001b[39;49m\u001b[39mModel\u001b[39;49m\u001b[39m'\u001b[39;49m, columns\u001b[39m=\u001b[39;49m\u001b[39m'\u001b[39;49m\u001b[39mYear\u001b[39;49m\u001b[39m'\u001b[39;49m, values\u001b[39m=\u001b[39;49m\u001b[39m'\u001b[39;49m\u001b[39mScore\u001b[39;49m\u001b[39m'\u001b[39;49m)\n\u001b[0;32m      <a href='vscode-notebook-cell:/c%3A/Users/regia/OneDrive/Documents/curso/Aula%2014%20-%20Data%20Wrangling%20II/Aula%2014%20-%20Meu%20resumo.ipynb#Y105sZmlsZQ%3D%3D?line=2'>3</a>\u001b[0m \u001b[39m# Veja que a saida abaixo apresenta erro, pois a função pivot não aceita valores duplicados no campo 'index' e 'coluna'.\u001b[39;00m\n\u001b[0;32m      <a href='vscode-notebook-cell:/c%3A/Users/regia/OneDrive/Documents/curso/Aula%2014%20-%20Data%20Wrangling%20II/Aula%2014%20-%20Meu%20resumo.ipynb#Y105sZmlsZQ%3D%3D?line=3'>4</a>\u001b[0m \u001b[39m# Conforme saida acima a coluna Model tem duplicidade de informações exemplo: BERT, BiLSTM+ELMo e etc. A coluna Year também como 2018, 2019  e etc\u001b[39;00m\n\u001b[0;32m      <a href='vscode-notebook-cell:/c%3A/Users/regia/OneDrive/Documents/curso/Aula%2014%20-%20Data%20Wrangling%20II/Aula%2014%20-%20Meu%20resumo.ipynb#Y105sZmlsZQ%3D%3D?line=4'>5</a>\u001b[0m \n\u001b[0;32m      <a href='vscode-notebook-cell:/c%3A/Users/regia/OneDrive/Documents/curso/Aula%2014%20-%20Data%20Wrangling%20II/Aula%2014%20-%20Meu%20resumo.ipynb#Y105sZmlsZQ%3D%3D?line=5'>6</a>\u001b[0m \u001b[39m# log do erro ValueError: Index contains duplicate entries, cannot reshape\u001b[39;00m\n",
      "File \u001b[1;32mc:\\Users\\regia\\AppData\\Local\\Programs\\Python\\Python311\\Lib\\site-packages\\pandas\\core\\frame.py:9028\u001b[0m, in \u001b[0;36mDataFrame.pivot\u001b[1;34m(self, columns, index, values)\u001b[0m\n\u001b[0;32m   9021\u001b[0m \u001b[39m@Substitution\u001b[39m(\u001b[39m\"\u001b[39m\u001b[39m\"\u001b[39m)\n\u001b[0;32m   9022\u001b[0m \u001b[39m@Appender\u001b[39m(_shared_docs[\u001b[39m\"\u001b[39m\u001b[39mpivot\u001b[39m\u001b[39m\"\u001b[39m])\n\u001b[0;32m   9023\u001b[0m \u001b[39mdef\u001b[39;00m \u001b[39mpivot\u001b[39m(\n\u001b[0;32m   9024\u001b[0m     \u001b[39mself\u001b[39m, \u001b[39m*\u001b[39m, columns, index\u001b[39m=\u001b[39mlib\u001b[39m.\u001b[39mno_default, values\u001b[39m=\u001b[39mlib\u001b[39m.\u001b[39mno_default\n\u001b[0;32m   9025\u001b[0m ) \u001b[39m-\u001b[39m\u001b[39m>\u001b[39m DataFrame:\n\u001b[0;32m   9026\u001b[0m     \u001b[39mfrom\u001b[39;00m \u001b[39mpandas\u001b[39;00m\u001b[39m.\u001b[39;00m\u001b[39mcore\u001b[39;00m\u001b[39m.\u001b[39;00m\u001b[39mreshape\u001b[39;00m\u001b[39m.\u001b[39;00m\u001b[39mpivot\u001b[39;00m \u001b[39mimport\u001b[39;00m pivot\n\u001b[1;32m-> 9028\u001b[0m     \u001b[39mreturn\u001b[39;00m pivot(\u001b[39mself\u001b[39;49m, index\u001b[39m=\u001b[39;49mindex, columns\u001b[39m=\u001b[39;49mcolumns, values\u001b[39m=\u001b[39;49mvalues)\n",
      "File \u001b[1;32mc:\\Users\\regia\\AppData\\Local\\Programs\\Python\\Python311\\Lib\\site-packages\\pandas\\core\\reshape\\pivot.py:553\u001b[0m, in \u001b[0;36mpivot\u001b[1;34m(data, columns, index, values)\u001b[0m\n\u001b[0;32m    549\u001b[0m         indexed \u001b[39m=\u001b[39m data\u001b[39m.\u001b[39m_constructor_sliced(data[values]\u001b[39m.\u001b[39m_values, index\u001b[39m=\u001b[39mmultiindex)\n\u001b[0;32m    550\u001b[0m \u001b[39m# error: Argument 1 to \"unstack\" of \"DataFrame\" has incompatible type \"Union\u001b[39;00m\n\u001b[0;32m    551\u001b[0m \u001b[39m# [List[Any], ExtensionArray, ndarray[Any, Any], Index, Series]\"; expected\u001b[39;00m\n\u001b[0;32m    552\u001b[0m \u001b[39m# \"Hashable\"\u001b[39;00m\n\u001b[1;32m--> 553\u001b[0m result \u001b[39m=\u001b[39m indexed\u001b[39m.\u001b[39;49munstack(columns_listlike)  \u001b[39m# type: ignore[arg-type]\u001b[39;00m\n\u001b[0;32m    554\u001b[0m result\u001b[39m.\u001b[39mindex\u001b[39m.\u001b[39mnames \u001b[39m=\u001b[39m [\n\u001b[0;32m    555\u001b[0m     name \u001b[39mif\u001b[39;00m name \u001b[39mis\u001b[39;00m \u001b[39mnot\u001b[39;00m lib\u001b[39m.\u001b[39mno_default \u001b[39melse\u001b[39;00m \u001b[39mNone\u001b[39;00m \u001b[39mfor\u001b[39;00m name \u001b[39min\u001b[39;00m result\u001b[39m.\u001b[39mindex\u001b[39m.\u001b[39mnames\n\u001b[0;32m    556\u001b[0m ]\n\u001b[0;32m    558\u001b[0m \u001b[39mreturn\u001b[39;00m result\n",
      "File \u001b[1;32mc:\\Users\\regia\\AppData\\Local\\Programs\\Python\\Python311\\Lib\\site-packages\\pandas\\core\\series.py:4455\u001b[0m, in \u001b[0;36mSeries.unstack\u001b[1;34m(self, level, fill_value, sort)\u001b[0m\n\u001b[0;32m   4410\u001b[0m \u001b[39m\u001b[39m\u001b[39m\"\"\"\u001b[39;00m\n\u001b[0;32m   4411\u001b[0m \u001b[39mUnstack, also known as pivot, Series with MultiIndex to produce DataFrame.\u001b[39;00m\n\u001b[0;32m   4412\u001b[0m \n\u001b[1;32m   (...)\u001b[0m\n\u001b[0;32m   4451\u001b[0m \u001b[39mb    2    4\u001b[39;00m\n\u001b[0;32m   4452\u001b[0m \u001b[39m\"\"\"\u001b[39;00m\n\u001b[0;32m   4453\u001b[0m \u001b[39mfrom\u001b[39;00m \u001b[39mpandas\u001b[39;00m\u001b[39m.\u001b[39;00m\u001b[39mcore\u001b[39;00m\u001b[39m.\u001b[39;00m\u001b[39mreshape\u001b[39;00m\u001b[39m.\u001b[39;00m\u001b[39mreshape\u001b[39;00m \u001b[39mimport\u001b[39;00m unstack\n\u001b[1;32m-> 4455\u001b[0m \u001b[39mreturn\u001b[39;00m unstack(\u001b[39mself\u001b[39;49m, level, fill_value, sort)\n",
      "File \u001b[1;32mc:\\Users\\regia\\AppData\\Local\\Programs\\Python\\Python311\\Lib\\site-packages\\pandas\\core\\reshape\\reshape.py:517\u001b[0m, in \u001b[0;36munstack\u001b[1;34m(obj, level, fill_value, sort)\u001b[0m\n\u001b[0;32m    515\u001b[0m \u001b[39mif\u001b[39;00m is_1d_only_ea_dtype(obj\u001b[39m.\u001b[39mdtype):\n\u001b[0;32m    516\u001b[0m     \u001b[39mreturn\u001b[39;00m _unstack_extension_series(obj, level, fill_value, sort\u001b[39m=\u001b[39msort)\n\u001b[1;32m--> 517\u001b[0m unstacker \u001b[39m=\u001b[39m _Unstacker(\n\u001b[0;32m    518\u001b[0m     obj\u001b[39m.\u001b[39;49mindex, level\u001b[39m=\u001b[39;49mlevel, constructor\u001b[39m=\u001b[39;49mobj\u001b[39m.\u001b[39;49m_constructor_expanddim, sort\u001b[39m=\u001b[39;49msort\n\u001b[0;32m    519\u001b[0m )\n\u001b[0;32m    520\u001b[0m \u001b[39mreturn\u001b[39;00m unstacker\u001b[39m.\u001b[39mget_result(\n\u001b[0;32m    521\u001b[0m     obj\u001b[39m.\u001b[39m_values, value_columns\u001b[39m=\u001b[39m\u001b[39mNone\u001b[39;00m, fill_value\u001b[39m=\u001b[39mfill_value\n\u001b[0;32m    522\u001b[0m )\n",
      "File \u001b[1;32mc:\\Users\\regia\\AppData\\Local\\Programs\\Python\\Python311\\Lib\\site-packages\\pandas\\core\\reshape\\reshape.py:154\u001b[0m, in \u001b[0;36m_Unstacker.__init__\u001b[1;34m(self, index, level, constructor, sort)\u001b[0m\n\u001b[0;32m    146\u001b[0m \u001b[39mif\u001b[39;00m num_cells \u001b[39m>\u001b[39m np\u001b[39m.\u001b[39miinfo(np\u001b[39m.\u001b[39mint32)\u001b[39m.\u001b[39mmax:\n\u001b[0;32m    147\u001b[0m     warnings\u001b[39m.\u001b[39mwarn(\n\u001b[0;32m    148\u001b[0m         \u001b[39mf\u001b[39m\u001b[39m\"\u001b[39m\u001b[39mThe following operation may generate \u001b[39m\u001b[39m{\u001b[39;00mnum_cells\u001b[39m}\u001b[39;00m\u001b[39m cells \u001b[39m\u001b[39m\"\u001b[39m\n\u001b[0;32m    149\u001b[0m         \u001b[39mf\u001b[39m\u001b[39m\"\u001b[39m\u001b[39min the resulting pandas object.\u001b[39m\u001b[39m\"\u001b[39m,\n\u001b[0;32m    150\u001b[0m         PerformanceWarning,\n\u001b[0;32m    151\u001b[0m         stacklevel\u001b[39m=\u001b[39mfind_stack_level(),\n\u001b[0;32m    152\u001b[0m     )\n\u001b[1;32m--> 154\u001b[0m \u001b[39mself\u001b[39;49m\u001b[39m.\u001b[39;49m_make_selectors()\n",
      "File \u001b[1;32mc:\\Users\\regia\\AppData\\Local\\Programs\\Python\\Python311\\Lib\\site-packages\\pandas\\core\\reshape\\reshape.py:210\u001b[0m, in \u001b[0;36m_Unstacker._make_selectors\u001b[1;34m(self)\u001b[0m\n\u001b[0;32m    207\u001b[0m mask\u001b[39m.\u001b[39mput(selector, \u001b[39mTrue\u001b[39;00m)\n\u001b[0;32m    209\u001b[0m \u001b[39mif\u001b[39;00m mask\u001b[39m.\u001b[39msum() \u001b[39m<\u001b[39m \u001b[39mlen\u001b[39m(\u001b[39mself\u001b[39m\u001b[39m.\u001b[39mindex):\n\u001b[1;32m--> 210\u001b[0m     \u001b[39mraise\u001b[39;00m \u001b[39mValueError\u001b[39;00m(\u001b[39m\"\u001b[39m\u001b[39mIndex contains duplicate entries, cannot reshape\u001b[39m\u001b[39m\"\u001b[39m)\n\u001b[0;32m    212\u001b[0m \u001b[39mself\u001b[39m\u001b[39m.\u001b[39mgroup_index \u001b[39m=\u001b[39m comp_index\n\u001b[0;32m    213\u001b[0m \u001b[39mself\u001b[39m\u001b[39m.\u001b[39mmask \u001b[39m=\u001b[39m mask\n",
      "\u001b[1;31mValueError\u001b[0m: Index contains duplicate entries, cannot reshape"
     ]
    }
   ],
   "source": [
    "df_sns.pivot(index='Model', columns='Year', values='Score')\n",
    "\n",
    "# Veja que a saida abaixo apresenta erro, pois a função pivot não aceita valores duplicados no campo 'index' e 'coluna'.\n",
    "# Conforme saida acima a coluna Model tem duplicidade de informações exemplo: BERT, BiLSTM+ELMo e etc. A coluna Year também como 2018, 2019  e etc\n",
    "\n",
    "# log do erro ValueError: Index contains duplicate entries, cannot reshape"
   ]
  },
  {
   "cell_type": "code",
   "execution_count": 13,
   "metadata": {},
   "outputs": [
    {
     "data": {
      "text/html": [
       "<div>\n",
       "<style scoped>\n",
       "    .dataframe tbody tr th:only-of-type {\n",
       "        vertical-align: middle;\n",
       "    }\n",
       "\n",
       "    .dataframe tbody tr th {\n",
       "        vertical-align: top;\n",
       "    }\n",
       "\n",
       "    .dataframe thead th {\n",
       "        text-align: right;\n",
       "    }\n",
       "</style>\n",
       "<table border=\"1\" class=\"dataframe\">\n",
       "  <thead>\n",
       "    <tr style=\"text-align: right;\">\n",
       "      <th>Year</th>\n",
       "      <th>2017</th>\n",
       "      <th>2018</th>\n",
       "      <th>2019</th>\n",
       "    </tr>\n",
       "    <tr>\n",
       "      <th>Model</th>\n",
       "      <th></th>\n",
       "      <th></th>\n",
       "      <th></th>\n",
       "    </tr>\n",
       "  </thead>\n",
       "  <tbody>\n",
       "    <tr>\n",
       "      <th>BERT</th>\n",
       "      <td>NaN</td>\n",
       "      <td>81.7375</td>\n",
       "      <td>NaN</td>\n",
       "    </tr>\n",
       "    <tr>\n",
       "      <th>BiLSTM</th>\n",
       "      <td>63.3250</td>\n",
       "      <td>NaN</td>\n",
       "      <td>NaN</td>\n",
       "    </tr>\n",
       "    <tr>\n",
       "      <th>BiLSTM+Attn</th>\n",
       "      <td>64.8375</td>\n",
       "      <td>NaN</td>\n",
       "      <td>NaN</td>\n",
       "    </tr>\n",
       "    <tr>\n",
       "      <th>BiLSTM+CoVe</th>\n",
       "      <td>61.6250</td>\n",
       "      <td>NaN</td>\n",
       "      <td>NaN</td>\n",
       "    </tr>\n",
       "    <tr>\n",
       "      <th>BiLSTM+ELMo</th>\n",
       "      <td>NaN</td>\n",
       "      <td>67.2000</td>\n",
       "      <td>NaN</td>\n",
       "    </tr>\n",
       "    <tr>\n",
       "      <th>ERNIE</th>\n",
       "      <td>NaN</td>\n",
       "      <td>NaN</td>\n",
       "      <td>89.7000</td>\n",
       "    </tr>\n",
       "    <tr>\n",
       "      <th>RoBERTa</th>\n",
       "      <td>NaN</td>\n",
       "      <td>NaN</td>\n",
       "      <td>87.2125</td>\n",
       "    </tr>\n",
       "    <tr>\n",
       "      <th>T5</th>\n",
       "      <td>NaN</td>\n",
       "      <td>NaN</td>\n",
       "      <td>89.0000</td>\n",
       "    </tr>\n",
       "  </tbody>\n",
       "</table>\n",
       "</div>"
      ],
      "text/plain": [
       "Year            2017     2018     2019\n",
       "Model                                 \n",
       "BERT             NaN  81.7375      NaN\n",
       "BiLSTM       63.3250      NaN      NaN\n",
       "BiLSTM+Attn  64.8375      NaN      NaN\n",
       "BiLSTM+CoVe  61.6250      NaN      NaN\n",
       "BiLSTM+ELMo      NaN  67.2000      NaN\n",
       "ERNIE            NaN      NaN  89.7000\n",
       "RoBERTa          NaN      NaN  87.2125\n",
       "T5               NaN      NaN  89.0000"
      ]
     },
     "execution_count": 13,
     "metadata": {},
     "output_type": "execute_result"
    }
   ],
   "source": [
    "# agora exemplo usando o pivot_table\n",
    "\n",
    "\n",
    "# pd.pivot_table -> (pd) Chamando da biblioteca pandas a função pivot_table\n",
    "# data -> conjunto de dados - > df_sns dataframe -> index, coluna, valore e a função de agregação que está fazendo a media\n",
    "\n",
    "\n",
    "pd.pivot_table(data = df_sns, index= 'Model', columns='Year', values= 'Score', aggfunc='mean')"
   ]
  },
  {
   "cell_type": "code",
   "execution_count": 14,
   "metadata": {},
   "outputs": [
    {
     "data": {
      "text/html": [
       "<div>\n",
       "<style scoped>\n",
       "    .dataframe tbody tr th:only-of-type {\n",
       "        vertical-align: middle;\n",
       "    }\n",
       "\n",
       "    .dataframe tbody tr th {\n",
       "        vertical-align: top;\n",
       "    }\n",
       "\n",
       "    .dataframe thead th {\n",
       "        text-align: right;\n",
       "    }\n",
       "</style>\n",
       "<table border=\"1\" class=\"dataframe\">\n",
       "  <thead>\n",
       "    <tr style=\"text-align: right;\">\n",
       "      <th>Year</th>\n",
       "      <th>2017</th>\n",
       "      <th>2018</th>\n",
       "      <th>2019</th>\n",
       "    </tr>\n",
       "    <tr>\n",
       "      <th>Task</th>\n",
       "      <th></th>\n",
       "      <th></th>\n",
       "      <th></th>\n",
       "    </tr>\n",
       "  </thead>\n",
       "  <tbody>\n",
       "    <tr>\n",
       "      <th>CoLA</th>\n",
       "      <td>16.233333</td>\n",
       "      <td>46.30</td>\n",
       "      <td>71.633333</td>\n",
       "    </tr>\n",
       "    <tr>\n",
       "      <th>MNLI</th>\n",
       "      <td>66.200000</td>\n",
       "      <td>76.95</td>\n",
       "      <td>91.766667</td>\n",
       "    </tr>\n",
       "    <tr>\n",
       "      <th>MRPC</th>\n",
       "      <td>81.466667</td>\n",
       "      <td>87.00</td>\n",
       "      <td>93.000000</td>\n",
       "    </tr>\n",
       "    <tr>\n",
       "      <th>QNLI</th>\n",
       "      <td>73.233333</td>\n",
       "      <td>84.10</td>\n",
       "      <td>96.533333</td>\n",
       "    </tr>\n",
       "    <tr>\n",
       "      <th>QQP</th>\n",
       "      <td>61.066667</td>\n",
       "      <td>66.60</td>\n",
       "      <td>74.866667</td>\n",
       "    </tr>\n",
       "    <tr>\n",
       "      <th>RTE</th>\n",
       "      <td>56.166667</td>\n",
       "      <td>63.75</td>\n",
       "      <td>91.200000</td>\n",
       "    </tr>\n",
       "    <tr>\n",
       "      <th>SST-2</th>\n",
       "      <td>82.566667</td>\n",
       "      <td>92.10</td>\n",
       "      <td>97.333333</td>\n",
       "    </tr>\n",
       "    <tr>\n",
       "      <th>STS-B</th>\n",
       "      <td>69.166667</td>\n",
       "      <td>78.95</td>\n",
       "      <td>92.766667</td>\n",
       "    </tr>\n",
       "  </tbody>\n",
       "</table>\n",
       "</div>"
      ],
      "text/plain": [
       "Year        2017   2018       2019\n",
       "Task                              \n",
       "CoLA   16.233333  46.30  71.633333\n",
       "MNLI   66.200000  76.95  91.766667\n",
       "MRPC   81.466667  87.00  93.000000\n",
       "QNLI   73.233333  84.10  96.533333\n",
       "QQP    61.066667  66.60  74.866667\n",
       "RTE    56.166667  63.75  91.200000\n",
       "SST-2  82.566667  92.10  97.333333\n",
       "STS-B  69.166667  78.95  92.766667"
      ]
     },
     "execution_count": 14,
     "metadata": {},
     "output_type": "execute_result"
    }
   ],
   "source": [
    "pd.pivot_table(data = df_sns, index= 'Task', columns='Year', values= 'Score', aggfunc='mean')\n"
   ]
  },
  {
   "cell_type": "markdown",
   "metadata": {},
   "source": [
    "### Tipos de dados\n",
    "\n",
    "*   dtypes\n",
    "*   astype()\n",
    "\n",
    "**dtypes** verifica o tipo de dado da coluna\n",
    "\n",
    "**astype()** é usado para alterar o tipo de dado de uma coluna. Ela permite converter uma coluna para um tipo de dado diferente, como inteiro, ponto flutuante, string, data, entre outros.\n",
    "\n",
    "![print.png](data:image/png;base64,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)\n",
    "\n",
    "\n",
    "\n"
   ]
  }
 ],
 "metadata": {
  "kernelspec": {
   "display_name": "Python 3",
   "language": "python",
   "name": "python3"
  },
  "language_info": {
   "codemirror_mode": {
    "name": "ipython",
    "version": 3
   },
   "file_extension": ".py",
   "mimetype": "text/x-python",
   "name": "python",
   "nbconvert_exporter": "python",
   "pygments_lexer": "ipython3",
   "version": "3.11.4"
  },
  "orig_nbformat": 4
 },
 "nbformat": 4,
 "nbformat_minor": 2
}
