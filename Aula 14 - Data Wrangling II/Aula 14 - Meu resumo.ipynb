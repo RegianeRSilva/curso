{
 "cells": [
  {
   "cell_type": "markdown",
   "metadata": {},
   "source": [
    "# Data Wrangling II\n",
    "\n",
    "* **Stack** e **Unstack**"
   ]
  },
  {
   "cell_type": "markdown",
   "metadata": {},
   "source": [
    "#### Stack \n",
    "\n",
    "Usado para converter colunas de um DataFrame em índices, resultando em uma reorganização dos dados de formato \"largo\" (wide) para formato \"longo\" (long). Ela empilha as colunas selecionadas, movendo-as para o índice mais interno \n",
    "\n",
    "![Alt text](image.png)"
   ]
  },
  {
   "cell_type": "markdown",
   "metadata": {},
   "source": [
    "#### Exemplo:\n",
    "\n",
    "* Stack \n",
    "\n",
    "![Alt text](<Captura de tela 2023-09-17 175804.png>)\n"
   ]
  },
  {
   "cell_type": "markdown",
   "metadata": {},
   "source": [
    "##### Unstack\n",
    "\n",
    "A Função unstack é o oposto da função stack. Ela desempilha os dados de um DataFrame de formato \"longo\" para \"largo\", movendo índices internos para as colunas correspondentes, reorganizando o DataFrame para o formato mais tubular. \n",
    "\n",
    "![Alt text](image-1.png)\n"
   ]
  },
  {
   "cell_type": "markdown",
   "metadata": {},
   "source": [
    "\n",
    "##### Exemplo:\n",
    "\n",
    "* Unstack\n",
    "\n",
    "![Alt text](<Captura de tela 2023-09-17 180107.png>)"
   ]
  },
  {
   "cell_type": "markdown",
   "metadata": {},
   "source": [
    "#### Explode\n",
    "\n",
    "É usado para transformar listas (ou outras estruturas de dados semelhantes a listas) que estão contidas em uma coluna DataFrame em linhas separadas, replicando os valores das outras colunas correspondentes. \n",
    "\n",
    "![Alt text](<Captura de tela 2023-09-17 180854.png>)"
   ]
  },
  {
   "cell_type": "markdown",
   "metadata": {},
   "source": [
    "### Hora da Pratica "
   ]
  },
  {
   "cell_type": "code",
   "execution_count": 3,
   "metadata": {},
   "outputs": [],
   "source": [
    "import numpy as np\n",
    "import pandas as pd"
   ]
  },
  {
   "cell_type": "code",
   "execution_count": 4,
   "metadata": {},
   "outputs": [],
   "source": [
    "df = pd.read_csv('realtor-data.csv') #puxa/le o arquivo csv "
   ]
  },
  {
   "cell_type": "code",
   "execution_count": 6,
   "metadata": {},
   "outputs": [
    {
     "name": "stdout",
     "output_type": "stream",
     "text": [
      "<class 'pandas.core.frame.DataFrame'>\n",
      "RangeIndex: 100000 entries, 0 to 99999\n",
      "Data columns (total 10 columns):\n",
      " #   Column          Non-Null Count   Dtype  \n",
      "---  ------          --------------   -----  \n",
      " 0   status          100000 non-null  object \n",
      " 1   bed             75050 non-null   float64\n",
      " 2   bath            75112 non-null   float64\n",
      " 3   acre_lot        85987 non-null   float64\n",
      " 4   city            99948 non-null   object \n",
      " 5   state           100000 non-null  object \n",
      " 6   zip_code        99805 non-null   float64\n",
      " 7   house_size      75082 non-null   float64\n",
      " 8   prev_sold_date  28745 non-null   object \n",
      " 9   price           100000 non-null  float64\n",
      "dtypes: float64(6), object(4)\n",
      "memory usage: 7.6+ MB\n"
     ]
    }
   ],
   "source": [
    "df.info() #apresentan  informações sobre o arquivo "
   ]
  },
  {
   "cell_type": "code",
   "execution_count": 7,
   "metadata": {},
   "outputs": [
    {
     "data": {
      "text/html": [
       "<div>\n",
       "<style scoped>\n",
       "    .dataframe tbody tr th:only-of-type {\n",
       "        vertical-align: middle;\n",
       "    }\n",
       "\n",
       "    .dataframe tbody tr th {\n",
       "        vertical-align: top;\n",
       "    }\n",
       "\n",
       "    .dataframe thead th {\n",
       "        text-align: right;\n",
       "    }\n",
       "</style>\n",
       "<table border=\"1\" class=\"dataframe\">\n",
       "  <thead>\n",
       "    <tr style=\"text-align: right;\">\n",
       "      <th></th>\n",
       "      <th>status</th>\n",
       "      <th>bed</th>\n",
       "      <th>bath</th>\n",
       "      <th>acre_lot</th>\n",
       "      <th>city</th>\n",
       "      <th>state</th>\n",
       "      <th>zip_code</th>\n",
       "      <th>house_size</th>\n",
       "      <th>prev_sold_date</th>\n",
       "      <th>price</th>\n",
       "    </tr>\n",
       "  </thead>\n",
       "  <tbody>\n",
       "    <tr>\n",
       "      <th>0</th>\n",
       "      <td>for_sale</td>\n",
       "      <td>3.0</td>\n",
       "      <td>2.0</td>\n",
       "      <td>0.12</td>\n",
       "      <td>Adjuntas</td>\n",
       "      <td>Puerto Rico</td>\n",
       "      <td>601.0</td>\n",
       "      <td>920.0</td>\n",
       "      <td>NaN</td>\n",
       "      <td>105000.0</td>\n",
       "    </tr>\n",
       "    <tr>\n",
       "      <th>1</th>\n",
       "      <td>for_sale</td>\n",
       "      <td>4.0</td>\n",
       "      <td>2.0</td>\n",
       "      <td>0.08</td>\n",
       "      <td>Adjuntas</td>\n",
       "      <td>Puerto Rico</td>\n",
       "      <td>601.0</td>\n",
       "      <td>1527.0</td>\n",
       "      <td>NaN</td>\n",
       "      <td>80000.0</td>\n",
       "    </tr>\n",
       "    <tr>\n",
       "      <th>2</th>\n",
       "      <td>for_sale</td>\n",
       "      <td>2.0</td>\n",
       "      <td>1.0</td>\n",
       "      <td>0.15</td>\n",
       "      <td>Juana Diaz</td>\n",
       "      <td>Puerto Rico</td>\n",
       "      <td>795.0</td>\n",
       "      <td>748.0</td>\n",
       "      <td>NaN</td>\n",
       "      <td>67000.0</td>\n",
       "    </tr>\n",
       "    <tr>\n",
       "      <th>3</th>\n",
       "      <td>for_sale</td>\n",
       "      <td>4.0</td>\n",
       "      <td>2.0</td>\n",
       "      <td>0.10</td>\n",
       "      <td>Ponce</td>\n",
       "      <td>Puerto Rico</td>\n",
       "      <td>731.0</td>\n",
       "      <td>1800.0</td>\n",
       "      <td>NaN</td>\n",
       "      <td>145000.0</td>\n",
       "    </tr>\n",
       "    <tr>\n",
       "      <th>4</th>\n",
       "      <td>for_sale</td>\n",
       "      <td>6.0</td>\n",
       "      <td>2.0</td>\n",
       "      <td>0.05</td>\n",
       "      <td>Mayaguez</td>\n",
       "      <td>Puerto Rico</td>\n",
       "      <td>680.0</td>\n",
       "      <td>NaN</td>\n",
       "      <td>NaN</td>\n",
       "      <td>65000.0</td>\n",
       "    </tr>\n",
       "  </tbody>\n",
       "</table>\n",
       "</div>"
      ],
      "text/plain": [
       "     status  bed  bath  acre_lot        city        state  zip_code  \\\n",
       "0  for_sale  3.0   2.0      0.12    Adjuntas  Puerto Rico     601.0   \n",
       "1  for_sale  4.0   2.0      0.08    Adjuntas  Puerto Rico     601.0   \n",
       "2  for_sale  2.0   1.0      0.15  Juana Diaz  Puerto Rico     795.0   \n",
       "3  for_sale  4.0   2.0      0.10       Ponce  Puerto Rico     731.0   \n",
       "4  for_sale  6.0   2.0      0.05    Mayaguez  Puerto Rico     680.0   \n",
       "\n",
       "   house_size prev_sold_date     price  \n",
       "0       920.0            NaN  105000.0  \n",
       "1      1527.0            NaN   80000.0  \n",
       "2       748.0            NaN   67000.0  \n",
       "3      1800.0            NaN  145000.0  \n",
       "4         NaN            NaN   65000.0  "
      ]
     },
     "execution_count": 7,
     "metadata": {},
     "output_type": "execute_result"
    }
   ],
   "source": [
    "df.head(5) # pega as primeiras 5 linhas"
   ]
  },
  {
   "cell_type": "code",
   "execution_count": 9,
   "metadata": {},
   "outputs": [
    {
     "data": {
      "text/plain": [
       "state           city        \n",
       "Connecticut     Andover         2.492542e+05\n",
       "                Ashford         2.849269e+05\n",
       "                Avon            6.070604e+05\n",
       "                Barkhamsted     3.752788e+05\n",
       "                Berlin          3.484531e+05\n",
       "                                    ...     \n",
       "Virgin Islands  Frederiksted    7.014767e+05\n",
       "                Kingshill       4.578320e+05\n",
       "                Saint John      1.003303e+06\n",
       "                Saint Thomas    1.169000e+06\n",
       "Virginia        Chincoteague    7.500000e+04\n",
       "Name: price, Length: 582, dtype: float64"
      ]
     },
     "execution_count": 9,
     "metadata": {},
     "output_type": "execute_result"
    }
   ],
   "source": [
    "# Para realizar um exemplo de stack e unstack vai ser feito inicialmente um groupby. \n",
    "# Vamos realizar um groupby onde iremos realizar uma media dos valores das casas dos estados e cidades \n",
    "\n",
    "# pegue os dados do csv que estão como df ( dataframe) e groupby -> Agrupe os dados -> (['Das colulnas State', 'E city])['pegue o campo price'].mean(faça a média)\n",
    "\n",
    "df.groupby(['state', 'city'])['price'].mean()  "
   ]
  },
  {
   "cell_type": "code",
   "execution_count": 10,
   "metadata": {},
   "outputs": [],
   "source": [
    "# podemos realizar um df sumarizado \n",
    "\n",
    "df_sum = pd.DataFrame(df.groupby(['state', 'city'])['price'].mean())"
   ]
  },
  {
   "cell_type": "code",
   "execution_count": 11,
   "metadata": {},
   "outputs": [
    {
     "data": {
      "text/html": [
       "<div>\n",
       "<style scoped>\n",
       "    .dataframe tbody tr th:only-of-type {\n",
       "        vertical-align: middle;\n",
       "    }\n",
       "\n",
       "    .dataframe tbody tr th {\n",
       "        vertical-align: top;\n",
       "    }\n",
       "\n",
       "    .dataframe thead th {\n",
       "        text-align: right;\n",
       "    }\n",
       "</style>\n",
       "<table border=\"1\" class=\"dataframe\">\n",
       "  <thead>\n",
       "    <tr style=\"text-align: right;\">\n",
       "      <th></th>\n",
       "      <th></th>\n",
       "      <th>price</th>\n",
       "    </tr>\n",
       "    <tr>\n",
       "      <th>state</th>\n",
       "      <th>city</th>\n",
       "      <th></th>\n",
       "    </tr>\n",
       "  </thead>\n",
       "  <tbody>\n",
       "    <tr>\n",
       "      <th rowspan=\"5\" valign=\"top\">Connecticut</th>\n",
       "      <th>Andover</th>\n",
       "      <td>2.492542e+05</td>\n",
       "    </tr>\n",
       "    <tr>\n",
       "      <th>Ashford</th>\n",
       "      <td>2.849269e+05</td>\n",
       "    </tr>\n",
       "    <tr>\n",
       "      <th>Avon</th>\n",
       "      <td>6.070604e+05</td>\n",
       "    </tr>\n",
       "    <tr>\n",
       "      <th>Barkhamsted</th>\n",
       "      <td>3.752788e+05</td>\n",
       "    </tr>\n",
       "    <tr>\n",
       "      <th>Berlin</th>\n",
       "      <td>3.484531e+05</td>\n",
       "    </tr>\n",
       "    <tr>\n",
       "      <th>...</th>\n",
       "      <th>...</th>\n",
       "      <td>...</td>\n",
       "    </tr>\n",
       "    <tr>\n",
       "      <th rowspan=\"4\" valign=\"top\">Virgin Islands</th>\n",
       "      <th>Frederiksted</th>\n",
       "      <td>7.014767e+05</td>\n",
       "    </tr>\n",
       "    <tr>\n",
       "      <th>Kingshill</th>\n",
       "      <td>4.578320e+05</td>\n",
       "    </tr>\n",
       "    <tr>\n",
       "      <th>Saint John</th>\n",
       "      <td>1.003303e+06</td>\n",
       "    </tr>\n",
       "    <tr>\n",
       "      <th>Saint Thomas</th>\n",
       "      <td>1.169000e+06</td>\n",
       "    </tr>\n",
       "    <tr>\n",
       "      <th>Virginia</th>\n",
       "      <th>Chincoteague</th>\n",
       "      <td>7.500000e+04</td>\n",
       "    </tr>\n",
       "  </tbody>\n",
       "</table>\n",
       "<p>582 rows × 1 columns</p>\n",
       "</div>"
      ],
      "text/plain": [
       "                                    price\n",
       "state          city                      \n",
       "Connecticut    Andover       2.492542e+05\n",
       "               Ashford       2.849269e+05\n",
       "               Avon          6.070604e+05\n",
       "               Barkhamsted   3.752788e+05\n",
       "               Berlin        3.484531e+05\n",
       "...                                   ...\n",
       "Virgin Islands Frederiksted  7.014767e+05\n",
       "               Kingshill     4.578320e+05\n",
       "               Saint John    1.003303e+06\n",
       "               Saint Thomas  1.169000e+06\n",
       "Virginia       Chincoteague  7.500000e+04\n",
       "\n",
       "[582 rows x 1 columns]"
      ]
     },
     "execution_count": 11,
     "metadata": {},
     "output_type": "execute_result"
    }
   ],
   "source": [
    "df_sum\n",
    "\n",
    "# No exemplo a baixo, vejá que há somente uma coluna a Price, a coluna state e city estão como indice "
   ]
  },
  {
   "cell_type": "code",
   "execution_count": 12,
   "metadata": {},
   "outputs": [
    {
     "data": {
      "text/plain": [
       "MultiIndex([(   'Connecticut',       'Andover'),\n",
       "            (   'Connecticut',       'Ashford'),\n",
       "            (   'Connecticut',          'Avon'),\n",
       "            (   'Connecticut',   'Barkhamsted'),\n",
       "            (   'Connecticut',        'Berlin'),\n",
       "            (   'Connecticut',     'Bethlehem'),\n",
       "            (   'Connecticut',    'Bloomfield'),\n",
       "            (   'Connecticut',        'Bolton'),\n",
       "            (   'Connecticut',        'Bozrah'),\n",
       "            (   'Connecticut',       'Bristol'),\n",
       "            ...\n",
       "            (       'Vermont',    'Whitingham'),\n",
       "            (       'Vermont',    'Wilmington'),\n",
       "            (       'Vermont',       'Winhall'),\n",
       "            (       'Vermont',      'Woodford'),\n",
       "            ('Virgin Islands', 'Christiansted'),\n",
       "            ('Virgin Islands',  'Frederiksted'),\n",
       "            ('Virgin Islands',     'Kingshill'),\n",
       "            ('Virgin Islands',    'Saint John'),\n",
       "            ('Virgin Islands',  'Saint Thomas'),\n",
       "            (      'Virginia',  'Chincoteague')],\n",
       "           names=['state', 'city'], length=582)"
      ]
     },
     "execution_count": 12,
     "metadata": {},
     "output_type": "execute_result"
    }
   ],
   "source": [
    "df_sum.index\n",
    "\n",
    "#veja que o resultado é um multiIndex"
   ]
  },
  {
   "cell_type": "code",
   "execution_count": 14,
   "metadata": {},
   "outputs": [
    {
     "data": {
      "text/html": [
       "<div>\n",
       "<style scoped>\n",
       "    .dataframe tbody tr th:only-of-type {\n",
       "        vertical-align: middle;\n",
       "    }\n",
       "\n",
       "    .dataframe tbody tr th {\n",
       "        vertical-align: top;\n",
       "    }\n",
       "\n",
       "    .dataframe thead th {\n",
       "        text-align: right;\n",
       "    }\n",
       "</style>\n",
       "<table border=\"1\" class=\"dataframe\">\n",
       "  <thead>\n",
       "    <tr style=\"text-align: right;\">\n",
       "      <th></th>\n",
       "      <th></th>\n",
       "      <th>price</th>\n",
       "    </tr>\n",
       "    <tr>\n",
       "      <th>state</th>\n",
       "      <th>city</th>\n",
       "      <th></th>\n",
       "    </tr>\n",
       "  </thead>\n",
       "  <tbody>\n",
       "    <tr>\n",
       "      <th rowspan=\"5\" valign=\"top\">Connecticut</th>\n",
       "      <th>Andover</th>\n",
       "      <td>249254.166667</td>\n",
       "    </tr>\n",
       "    <tr>\n",
       "      <th>Ashford</th>\n",
       "      <td>284926.865672</td>\n",
       "    </tr>\n",
       "    <tr>\n",
       "      <th>Avon</th>\n",
       "      <td>607060.414013</td>\n",
       "    </tr>\n",
       "    <tr>\n",
       "      <th>Barkhamsted</th>\n",
       "      <td>375278.787879</td>\n",
       "    </tr>\n",
       "    <tr>\n",
       "      <th>Berlin</th>\n",
       "      <td>348453.061224</td>\n",
       "    </tr>\n",
       "  </tbody>\n",
       "</table>\n",
       "</div>"
      ],
      "text/plain": [
       "                                 price\n",
       "state       city                      \n",
       "Connecticut Andover      249254.166667\n",
       "            Ashford      284926.865672\n",
       "            Avon         607060.414013\n",
       "            Barkhamsted  375278.787879\n",
       "            Berlin       348453.061224"
      ]
     },
     "execution_count": 14,
     "metadata": {},
     "output_type": "execute_result"
    }
   ],
   "source": [
    "df_sum.head()"
   ]
  },
  {
   "cell_type": "markdown",
   "metadata": {},
   "source": [
    "* **Exemplo Stack e Unstack**\n",
    "\n",
    "Obs: Lemando que foi necessario criar um groupby acima:"
   ]
  },
  {
   "cell_type": "code",
   "execution_count": 13,
   "metadata": {},
   "outputs": [
    {
     "data": {
      "text/plain": [
       "state           city               \n",
       "Connecticut     Andover       price    2.492542e+05\n",
       "                Ashford       price    2.849269e+05\n",
       "                Avon          price    6.070604e+05\n",
       "                Barkhamsted   price    3.752788e+05\n",
       "                Berlin        price    3.484531e+05\n",
       "                                           ...     \n",
       "Virgin Islands  Frederiksted  price    7.014767e+05\n",
       "                Kingshill     price    4.578320e+05\n",
       "                Saint John    price    1.003303e+06\n",
       "                Saint Thomas  price    1.169000e+06\n",
       "Virginia        Chincoteague  price    7.500000e+04\n",
       "Length: 582, dtype: float64"
      ]
     },
     "execution_count": 13,
     "metadata": {},
     "output_type": "execute_result"
    }
   ],
   "source": [
    "# Agora vamos para o exemplo Stack\n",
    "# Veja que a coluna price, se tornou um indice \n",
    "# Então o comando pega uma coluna e adiciona ao conjunto de index\n",
    "\n",
    "df_sum.stack()"
   ]
  },
  {
   "cell_type": "code",
   "execution_count": 16,
   "metadata": {},
   "outputs": [
    {
     "data": {
      "text/html": [
       "<div>\n",
       "<style scoped>\n",
       "    .dataframe tbody tr th:only-of-type {\n",
       "        vertical-align: middle;\n",
       "    }\n",
       "\n",
       "    .dataframe tbody tr th {\n",
       "        vertical-align: top;\n",
       "    }\n",
       "\n",
       "    .dataframe thead th {\n",
       "        text-align: right;\n",
       "    }\n",
       "</style>\n",
       "<table border=\"1\" class=\"dataframe\">\n",
       "  <thead>\n",
       "    <tr style=\"text-align: right;\">\n",
       "      <th></th>\n",
       "      <th></th>\n",
       "      <th></th>\n",
       "      <th>0</th>\n",
       "    </tr>\n",
       "    <tr>\n",
       "      <th>state</th>\n",
       "      <th>city</th>\n",
       "      <th></th>\n",
       "      <th></th>\n",
       "    </tr>\n",
       "  </thead>\n",
       "  <tbody>\n",
       "    <tr>\n",
       "      <th rowspan=\"5\" valign=\"top\">Connecticut</th>\n",
       "      <th>Andover</th>\n",
       "      <th>price</th>\n",
       "      <td>2.492542e+05</td>\n",
       "    </tr>\n",
       "    <tr>\n",
       "      <th>Ashford</th>\n",
       "      <th>price</th>\n",
       "      <td>2.849269e+05</td>\n",
       "    </tr>\n",
       "    <tr>\n",
       "      <th>Avon</th>\n",
       "      <th>price</th>\n",
       "      <td>6.070604e+05</td>\n",
       "    </tr>\n",
       "    <tr>\n",
       "      <th>Barkhamsted</th>\n",
       "      <th>price</th>\n",
       "      <td>3.752788e+05</td>\n",
       "    </tr>\n",
       "    <tr>\n",
       "      <th>Berlin</th>\n",
       "      <th>price</th>\n",
       "      <td>3.484531e+05</td>\n",
       "    </tr>\n",
       "    <tr>\n",
       "      <th>...</th>\n",
       "      <th>...</th>\n",
       "      <th>...</th>\n",
       "      <td>...</td>\n",
       "    </tr>\n",
       "    <tr>\n",
       "      <th rowspan=\"4\" valign=\"top\">Virgin Islands</th>\n",
       "      <th>Frederiksted</th>\n",
       "      <th>price</th>\n",
       "      <td>7.014767e+05</td>\n",
       "    </tr>\n",
       "    <tr>\n",
       "      <th>Kingshill</th>\n",
       "      <th>price</th>\n",
       "      <td>4.578320e+05</td>\n",
       "    </tr>\n",
       "    <tr>\n",
       "      <th>Saint John</th>\n",
       "      <th>price</th>\n",
       "      <td>1.003303e+06</td>\n",
       "    </tr>\n",
       "    <tr>\n",
       "      <th>Saint Thomas</th>\n",
       "      <th>price</th>\n",
       "      <td>1.169000e+06</td>\n",
       "    </tr>\n",
       "    <tr>\n",
       "      <th>Virginia</th>\n",
       "      <th>Chincoteague</th>\n",
       "      <th>price</th>\n",
       "      <td>7.500000e+04</td>\n",
       "    </tr>\n",
       "  </tbody>\n",
       "</table>\n",
       "<p>582 rows × 1 columns</p>\n",
       "</div>"
      ],
      "text/plain": [
       "                                              0\n",
       "state          city                            \n",
       "Connecticut    Andover      price  2.492542e+05\n",
       "               Ashford      price  2.849269e+05\n",
       "               Avon         price  6.070604e+05\n",
       "               Barkhamsted  price  3.752788e+05\n",
       "               Berlin       price  3.484531e+05\n",
       "...                                         ...\n",
       "Virgin Islands Frederiksted price  7.014767e+05\n",
       "               Kingshill    price  4.578320e+05\n",
       "               Saint John   price  1.003303e+06\n",
       "               Saint Thomas price  1.169000e+06\n",
       "Virginia       Chincoteague price  7.500000e+04\n",
       "\n",
       "[582 rows x 1 columns]"
      ]
     },
     "execution_count": 16,
     "metadata": {},
     "output_type": "execute_result"
    }
   ],
   "source": [
    "df_stack = pd.DataFrame(df_sum.stack())\n",
    "\n",
    "df_stack"
   ]
  },
  {
   "cell_type": "code",
   "execution_count": 18,
   "metadata": {},
   "outputs": [
    {
     "data": {
      "text/plain": [
       "MultiIndex([(   'Connecticut',       'Andover', 'price'),\n",
       "            (   'Connecticut',       'Ashford', 'price'),\n",
       "            (   'Connecticut',          'Avon', 'price'),\n",
       "            (   'Connecticut',   'Barkhamsted', 'price'),\n",
       "            (   'Connecticut',        'Berlin', 'price'),\n",
       "            (   'Connecticut',     'Bethlehem', 'price'),\n",
       "            (   'Connecticut',    'Bloomfield', 'price'),\n",
       "            (   'Connecticut',        'Bolton', 'price'),\n",
       "            (   'Connecticut',        'Bozrah', 'price'),\n",
       "            (   'Connecticut',       'Bristol', 'price'),\n",
       "            ...\n",
       "            (       'Vermont',    'Whitingham', 'price'),\n",
       "            (       'Vermont',    'Wilmington', 'price'),\n",
       "            (       'Vermont',       'Winhall', 'price'),\n",
       "            (       'Vermont',      'Woodford', 'price'),\n",
       "            ('Virgin Islands', 'Christiansted', 'price'),\n",
       "            ('Virgin Islands',  'Frederiksted', 'price'),\n",
       "            ('Virgin Islands',     'Kingshill', 'price'),\n",
       "            ('Virgin Islands',    'Saint John', 'price'),\n",
       "            ('Virgin Islands',  'Saint Thomas', 'price'),\n",
       "            (      'Virginia',  'Chincoteague', 'price')],\n",
       "           names=['state', 'city', None], length=582)"
      ]
     },
     "execution_count": 18,
     "metadata": {},
     "output_type": "execute_result"
    }
   ],
   "source": [
    "# Então o comando pega uma coluna e adiciona ao conjunto de index\n",
    "\n",
    "df_stack.index"
   ]
  },
  {
   "cell_type": "code",
   "execution_count": 19,
   "metadata": {},
   "outputs": [
    {
     "data": {
      "text/plain": [
       "RangeIndex(start=0, stop=100000, step=1)"
      ]
     },
     "execution_count": 19,
     "metadata": {},
     "output_type": "execute_result"
    }
   ],
   "source": [
    "# veja os indices do dataframe bruto - csv\n",
    "\n",
    "df.index"
   ]
  },
  {
   "cell_type": "code",
   "execution_count": 20,
   "metadata": {},
   "outputs": [
    {
     "data": {
      "text/html": [
       "<div>\n",
       "<style scoped>\n",
       "    .dataframe tbody tr th:only-of-type {\n",
       "        vertical-align: middle;\n",
       "    }\n",
       "\n",
       "    .dataframe tbody tr th {\n",
       "        vertical-align: top;\n",
       "    }\n",
       "\n",
       "    .dataframe thead tr th {\n",
       "        text-align: left;\n",
       "    }\n",
       "\n",
       "    .dataframe thead tr:last-of-type th {\n",
       "        text-align: right;\n",
       "    }\n",
       "</style>\n",
       "<table border=\"1\" class=\"dataframe\">\n",
       "  <thead>\n",
       "    <tr>\n",
       "      <th></th>\n",
       "      <th></th>\n",
       "      <th>0</th>\n",
       "    </tr>\n",
       "    <tr>\n",
       "      <th></th>\n",
       "      <th></th>\n",
       "      <th>price</th>\n",
       "    </tr>\n",
       "    <tr>\n",
       "      <th>state</th>\n",
       "      <th>city</th>\n",
       "      <th></th>\n",
       "    </tr>\n",
       "  </thead>\n",
       "  <tbody>\n",
       "    <tr>\n",
       "      <th rowspan=\"5\" valign=\"top\">Connecticut</th>\n",
       "      <th>Andover</th>\n",
       "      <td>2.492542e+05</td>\n",
       "    </tr>\n",
       "    <tr>\n",
       "      <th>Ashford</th>\n",
       "      <td>2.849269e+05</td>\n",
       "    </tr>\n",
       "    <tr>\n",
       "      <th>Avon</th>\n",
       "      <td>6.070604e+05</td>\n",
       "    </tr>\n",
       "    <tr>\n",
       "      <th>Barkhamsted</th>\n",
       "      <td>3.752788e+05</td>\n",
       "    </tr>\n",
       "    <tr>\n",
       "      <th>Berlin</th>\n",
       "      <td>3.484531e+05</td>\n",
       "    </tr>\n",
       "    <tr>\n",
       "      <th>...</th>\n",
       "      <th>...</th>\n",
       "      <td>...</td>\n",
       "    </tr>\n",
       "    <tr>\n",
       "      <th rowspan=\"4\" valign=\"top\">Virgin Islands</th>\n",
       "      <th>Frederiksted</th>\n",
       "      <td>7.014767e+05</td>\n",
       "    </tr>\n",
       "    <tr>\n",
       "      <th>Kingshill</th>\n",
       "      <td>4.578320e+05</td>\n",
       "    </tr>\n",
       "    <tr>\n",
       "      <th>Saint John</th>\n",
       "      <td>1.003303e+06</td>\n",
       "    </tr>\n",
       "    <tr>\n",
       "      <th>Saint Thomas</th>\n",
       "      <td>1.169000e+06</td>\n",
       "    </tr>\n",
       "    <tr>\n",
       "      <th>Virginia</th>\n",
       "      <th>Chincoteague</th>\n",
       "      <td>7.500000e+04</td>\n",
       "    </tr>\n",
       "  </tbody>\n",
       "</table>\n",
       "<p>582 rows × 1 columns</p>\n",
       "</div>"
      ],
      "text/plain": [
       "                                        0\n",
       "                                    price\n",
       "state          city                      \n",
       "Connecticut    Andover       2.492542e+05\n",
       "               Ashford       2.849269e+05\n",
       "               Avon          6.070604e+05\n",
       "               Barkhamsted   3.752788e+05\n",
       "               Berlin        3.484531e+05\n",
       "...                                   ...\n",
       "Virgin Islands Frederiksted  7.014767e+05\n",
       "               Kingshill     4.578320e+05\n",
       "               Saint John    1.003303e+06\n",
       "               Saint Thomas  1.169000e+06\n",
       "Virginia       Chincoteague  7.500000e+04\n",
       "\n",
       "[582 rows x 1 columns]"
      ]
     },
     "execution_count": 20,
     "metadata": {},
     "output_type": "execute_result"
    }
   ],
   "source": [
    "#Agora realizando um Unstack o Price volta a se tornar coluna da variavel média do preço\n",
    "\n",
    "df_stack.unstack()"
   ]
  },
  {
   "cell_type": "markdown",
   "metadata": {},
   "source": [
    "* Novo exemplo com DataFrame ficticio "
   ]
  },
  {
   "cell_type": "code",
   "execution_count": 21,
   "metadata": {},
   "outputs": [
    {
     "data": {
      "text/html": [
       "<div>\n",
       "<style scoped>\n",
       "    .dataframe tbody tr th:only-of-type {\n",
       "        vertical-align: middle;\n",
       "    }\n",
       "\n",
       "    .dataframe tbody tr th {\n",
       "        vertical-align: top;\n",
       "    }\n",
       "\n",
       "    .dataframe thead th {\n",
       "        text-align: right;\n",
       "    }\n",
       "</style>\n",
       "<table border=\"1\" class=\"dataframe\">\n",
       "  <thead>\n",
       "    <tr style=\"text-align: right;\">\n",
       "      <th></th>\n",
       "      <th>Valor1</th>\n",
       "      <th>Valor2</th>\n",
       "    </tr>\n",
       "  </thead>\n",
       "  <tbody>\n",
       "    <tr>\n",
       "      <th>0</th>\n",
       "      <td>1</td>\n",
       "      <td>5</td>\n",
       "    </tr>\n",
       "    <tr>\n",
       "      <th>1</th>\n",
       "      <td>2</td>\n",
       "      <td>6</td>\n",
       "    </tr>\n",
       "    <tr>\n",
       "      <th>2</th>\n",
       "      <td>3</td>\n",
       "      <td>7</td>\n",
       "    </tr>\n",
       "    <tr>\n",
       "      <th>3</th>\n",
       "      <td>4</td>\n",
       "      <td>8</td>\n",
       "    </tr>\n",
       "  </tbody>\n",
       "</table>\n",
       "</div>"
      ],
      "text/plain": [
       "   Valor1  Valor2\n",
       "0       1       5\n",
       "1       2       6\n",
       "2       3       7\n",
       "3       4       8"
      ]
     },
     "execution_count": 21,
     "metadata": {},
     "output_type": "execute_result"
    }
   ],
   "source": [
    "\n",
    "# df_ex = Nome da variavel dataframe \n",
    "# pd.DataFrame = pd (modulo) DataFrame (classe)\n",
    "# {} dentro está sendo colocado os nomes das coluna \n",
    "# [] dentro está sendo colocado os valores \n",
    "\n",
    "df_ex = pd.DataFrame({'Valor1':[1,2,3,4], 'Valor2': [5,6,7,8]})\n",
    "\n",
    "df_ex"
   ]
  },
  {
   "cell_type": "code",
   "execution_count": 22,
   "metadata": {},
   "outputs": [
    {
     "data": {
      "text/plain": [
       "0  Valor1    1\n",
       "   Valor2    5\n",
       "1  Valor1    2\n",
       "   Valor2    6\n",
       "2  Valor1    3\n",
       "   Valor2    7\n",
       "3  Valor1    4\n",
       "   Valor2    8\n",
       "dtype: int64"
      ]
     },
     "execution_count": 22,
     "metadata": {},
     "output_type": "execute_result"
    }
   ],
   "source": [
    "df_ex.stack()\n",
    "\n",
    "# Realizado o stack veja que as colunas se tornaram indices \n",
    "\n",
    "# Retorou uma unica coluna, com essas categorias e uma outra coluna com os valores"
   ]
  },
  {
   "cell_type": "code",
   "execution_count": 23,
   "metadata": {},
   "outputs": [
    {
     "data": {
      "text/html": [
       "<div>\n",
       "<style scoped>\n",
       "    .dataframe tbody tr th:only-of-type {\n",
       "        vertical-align: middle;\n",
       "    }\n",
       "\n",
       "    .dataframe tbody tr th {\n",
       "        vertical-align: top;\n",
       "    }\n",
       "\n",
       "    .dataframe thead th {\n",
       "        text-align: right;\n",
       "    }\n",
       "</style>\n",
       "<table border=\"1\" class=\"dataframe\">\n",
       "  <thead>\n",
       "    <tr style=\"text-align: right;\">\n",
       "      <th></th>\n",
       "      <th></th>\n",
       "      <th>0</th>\n",
       "    </tr>\n",
       "  </thead>\n",
       "  <tbody>\n",
       "    <tr>\n",
       "      <th rowspan=\"2\" valign=\"top\">0</th>\n",
       "      <th>Valor1</th>\n",
       "      <td>1</td>\n",
       "    </tr>\n",
       "    <tr>\n",
       "      <th>Valor2</th>\n",
       "      <td>5</td>\n",
       "    </tr>\n",
       "    <tr>\n",
       "      <th rowspan=\"2\" valign=\"top\">1</th>\n",
       "      <th>Valor1</th>\n",
       "      <td>2</td>\n",
       "    </tr>\n",
       "    <tr>\n",
       "      <th>Valor2</th>\n",
       "      <td>6</td>\n",
       "    </tr>\n",
       "    <tr>\n",
       "      <th rowspan=\"2\" valign=\"top\">2</th>\n",
       "      <th>Valor1</th>\n",
       "      <td>3</td>\n",
       "    </tr>\n",
       "    <tr>\n",
       "      <th>Valor2</th>\n",
       "      <td>7</td>\n",
       "    </tr>\n",
       "    <tr>\n",
       "      <th rowspan=\"2\" valign=\"top\">3</th>\n",
       "      <th>Valor1</th>\n",
       "      <td>4</td>\n",
       "    </tr>\n",
       "    <tr>\n",
       "      <th>Valor2</th>\n",
       "      <td>8</td>\n",
       "    </tr>\n",
       "  </tbody>\n",
       "</table>\n",
       "</div>"
      ],
      "text/plain": [
       "          0\n",
       "0 Valor1  1\n",
       "  Valor2  5\n",
       "1 Valor1  2\n",
       "  Valor2  6\n",
       "2 Valor1  3\n",
       "  Valor2  7\n",
       "3 Valor1  4\n",
       "  Valor2  8"
      ]
     },
     "execution_count": 23,
     "metadata": {},
     "output_type": "execute_result"
    }
   ],
   "source": [
    "pd.DataFrame(df_ex.stack())"
   ]
  },
  {
   "cell_type": "code",
   "execution_count": 24,
   "metadata": {},
   "outputs": [
    {
     "data": {
      "text/plain": [
       "MultiIndex([(0, 'Valor1'),\n",
       "            (0, 'Valor2'),\n",
       "            (1, 'Valor1'),\n",
       "            (1, 'Valor2'),\n",
       "            (2, 'Valor1'),\n",
       "            (2, 'Valor2'),\n",
       "            (3, 'Valor1'),\n",
       "            (3, 'Valor2')],\n",
       "           )"
      ]
     },
     "execution_count": 24,
     "metadata": {},
     "output_type": "execute_result"
    }
   ],
   "source": [
    "pd.DataFrame(df_ex.stack()).index"
   ]
  },
  {
   "cell_type": "code",
   "execution_count": 25,
   "metadata": {},
   "outputs": [
    {
     "data": {
      "text/html": [
       "<div>\n",
       "<style scoped>\n",
       "    .dataframe tbody tr th:only-of-type {\n",
       "        vertical-align: middle;\n",
       "    }\n",
       "\n",
       "    .dataframe tbody tr th {\n",
       "        vertical-align: top;\n",
       "    }\n",
       "\n",
       "    .dataframe thead th {\n",
       "        text-align: right;\n",
       "    }\n",
       "</style>\n",
       "<table border=\"1\" class=\"dataframe\">\n",
       "  <thead>\n",
       "    <tr style=\"text-align: right;\">\n",
       "      <th></th>\n",
       "      <th>level_0</th>\n",
       "      <th>level_1</th>\n",
       "      <th>0</th>\n",
       "    </tr>\n",
       "  </thead>\n",
       "  <tbody>\n",
       "    <tr>\n",
       "      <th>0</th>\n",
       "      <td>0</td>\n",
       "      <td>Valor1</td>\n",
       "      <td>1</td>\n",
       "    </tr>\n",
       "    <tr>\n",
       "      <th>1</th>\n",
       "      <td>0</td>\n",
       "      <td>Valor2</td>\n",
       "      <td>5</td>\n",
       "    </tr>\n",
       "    <tr>\n",
       "      <th>2</th>\n",
       "      <td>1</td>\n",
       "      <td>Valor1</td>\n",
       "      <td>2</td>\n",
       "    </tr>\n",
       "    <tr>\n",
       "      <th>3</th>\n",
       "      <td>1</td>\n",
       "      <td>Valor2</td>\n",
       "      <td>6</td>\n",
       "    </tr>\n",
       "    <tr>\n",
       "      <th>4</th>\n",
       "      <td>2</td>\n",
       "      <td>Valor1</td>\n",
       "      <td>3</td>\n",
       "    </tr>\n",
       "    <tr>\n",
       "      <th>5</th>\n",
       "      <td>2</td>\n",
       "      <td>Valor2</td>\n",
       "      <td>7</td>\n",
       "    </tr>\n",
       "    <tr>\n",
       "      <th>6</th>\n",
       "      <td>3</td>\n",
       "      <td>Valor1</td>\n",
       "      <td>4</td>\n",
       "    </tr>\n",
       "    <tr>\n",
       "      <th>7</th>\n",
       "      <td>3</td>\n",
       "      <td>Valor2</td>\n",
       "      <td>8</td>\n",
       "    </tr>\n",
       "  </tbody>\n",
       "</table>\n",
       "</div>"
      ],
      "text/plain": [
       "   level_0 level_1  0\n",
       "0        0  Valor1  1\n",
       "1        0  Valor2  5\n",
       "2        1  Valor1  2\n",
       "3        1  Valor2  6\n",
       "4        2  Valor1  3\n",
       "5        2  Valor2  7\n",
       "6        3  Valor1  4\n",
       "7        3  Valor2  8"
      ]
     },
     "execution_count": 25,
     "metadata": {},
     "output_type": "execute_result"
    }
   ],
   "source": [
    "pd.DataFrame(df_ex.stack()).reset_index()"
   ]
  },
  {
   "cell_type": "code",
   "execution_count": 26,
   "metadata": {},
   "outputs": [
    {
     "data": {
      "text/html": [
       "<div>\n",
       "<style scoped>\n",
       "    .dataframe tbody tr th:only-of-type {\n",
       "        vertical-align: middle;\n",
       "    }\n",
       "\n",
       "    .dataframe tbody tr th {\n",
       "        vertical-align: top;\n",
       "    }\n",
       "\n",
       "    .dataframe thead th {\n",
       "        text-align: right;\n",
       "    }\n",
       "</style>\n",
       "<table border=\"1\" class=\"dataframe\">\n",
       "  <thead>\n",
       "    <tr style=\"text-align: right;\">\n",
       "      <th></th>\n",
       "      <th>level_1</th>\n",
       "      <th>0</th>\n",
       "    </tr>\n",
       "  </thead>\n",
       "  <tbody>\n",
       "    <tr>\n",
       "      <th>0</th>\n",
       "      <td>Valor1</td>\n",
       "      <td>1</td>\n",
       "    </tr>\n",
       "    <tr>\n",
       "      <th>0</th>\n",
       "      <td>Valor2</td>\n",
       "      <td>5</td>\n",
       "    </tr>\n",
       "    <tr>\n",
       "      <th>1</th>\n",
       "      <td>Valor1</td>\n",
       "      <td>2</td>\n",
       "    </tr>\n",
       "    <tr>\n",
       "      <th>1</th>\n",
       "      <td>Valor2</td>\n",
       "      <td>6</td>\n",
       "    </tr>\n",
       "    <tr>\n",
       "      <th>2</th>\n",
       "      <td>Valor1</td>\n",
       "      <td>3</td>\n",
       "    </tr>\n",
       "    <tr>\n",
       "      <th>2</th>\n",
       "      <td>Valor2</td>\n",
       "      <td>7</td>\n",
       "    </tr>\n",
       "    <tr>\n",
       "      <th>3</th>\n",
       "      <td>Valor1</td>\n",
       "      <td>4</td>\n",
       "    </tr>\n",
       "    <tr>\n",
       "      <th>3</th>\n",
       "      <td>Valor2</td>\n",
       "      <td>8</td>\n",
       "    </tr>\n",
       "  </tbody>\n",
       "</table>\n",
       "</div>"
      ],
      "text/plain": [
       "  level_1  0\n",
       "0  Valor1  1\n",
       "0  Valor2  5\n",
       "1  Valor1  2\n",
       "1  Valor2  6\n",
       "2  Valor1  3\n",
       "2  Valor2  7\n",
       "3  Valor1  4\n",
       "3  Valor2  8"
      ]
     },
     "execution_count": 26,
     "metadata": {},
     "output_type": "execute_result"
    }
   ],
   "source": [
    "pd.DataFrame(df_ex.stack()).reset_index(level=1)"
   ]
  },
  {
   "cell_type": "markdown",
   "metadata": {},
   "source": [
    "* **Exemplo do Explode**"
   ]
  },
  {
   "cell_type": "code",
   "execution_count": 28,
   "metadata": {},
   "outputs": [
    {
     "name": "stdout",
     "output_type": "stream",
     "text": [
      "['Ted Joao', 'Ted Maria', 'Ted Marcos']\n",
      "[['saude', 'alimentação'], ['Esporte', 'Corrida', 'Competição'], ['Cursos', 'Tecnologia']]\n"
     ]
    }
   ],
   "source": [
    "teds = ['Ted Joao', 'Ted Maria', 'Ted Marcos']\n",
    "tags = [['saude', 'alimentação'], ['Esporte', 'Corrida', 'Competição'], ['Cursos', 'Tecnologia']]\n",
    "\n",
    "print(teds)\n",
    "print(tags)"
   ]
  },
  {
   "cell_type": "code",
   "execution_count": 32,
   "metadata": {},
   "outputs": [],
   "source": [
    "df_ex2 = pd.DataFrame({'TED': teds, 'Tags': tags })"
   ]
  },
  {
   "cell_type": "code",
   "execution_count": 33,
   "metadata": {},
   "outputs": [
    {
     "data": {
      "text/html": [
       "<div>\n",
       "<style scoped>\n",
       "    .dataframe tbody tr th:only-of-type {\n",
       "        vertical-align: middle;\n",
       "    }\n",
       "\n",
       "    .dataframe tbody tr th {\n",
       "        vertical-align: top;\n",
       "    }\n",
       "\n",
       "    .dataframe thead th {\n",
       "        text-align: right;\n",
       "    }\n",
       "</style>\n",
       "<table border=\"1\" class=\"dataframe\">\n",
       "  <thead>\n",
       "    <tr style=\"text-align: right;\">\n",
       "      <th></th>\n",
       "      <th>TED</th>\n",
       "      <th>Tags</th>\n",
       "    </tr>\n",
       "  </thead>\n",
       "  <tbody>\n",
       "    <tr>\n",
       "      <th>0</th>\n",
       "      <td>Ted Joao</td>\n",
       "      <td>[saude, alimentação]</td>\n",
       "    </tr>\n",
       "    <tr>\n",
       "      <th>1</th>\n",
       "      <td>Ted Maria</td>\n",
       "      <td>[Esporte, Corrida, Competição]</td>\n",
       "    </tr>\n",
       "    <tr>\n",
       "      <th>2</th>\n",
       "      <td>Ted Marcos</td>\n",
       "      <td>[Cursos, Tecnologia]</td>\n",
       "    </tr>\n",
       "  </tbody>\n",
       "</table>\n",
       "</div>"
      ],
      "text/plain": [
       "          TED                            Tags\n",
       "0    Ted Joao            [saude, alimentação]\n",
       "1   Ted Maria  [Esporte, Corrida, Competição]\n",
       "2  Ted Marcos            [Cursos, Tecnologia]"
      ]
     },
     "execution_count": 33,
     "metadata": {},
     "output_type": "execute_result"
    }
   ],
   "source": [
    "df_ex2"
   ]
  },
  {
   "cell_type": "code",
   "execution_count": 34,
   "metadata": {},
   "outputs": [
    {
     "data": {
      "text/html": [
       "<div>\n",
       "<style scoped>\n",
       "    .dataframe tbody tr th:only-of-type {\n",
       "        vertical-align: middle;\n",
       "    }\n",
       "\n",
       "    .dataframe tbody tr th {\n",
       "        vertical-align: top;\n",
       "    }\n",
       "\n",
       "    .dataframe thead th {\n",
       "        text-align: right;\n",
       "    }\n",
       "</style>\n",
       "<table border=\"1\" class=\"dataframe\">\n",
       "  <thead>\n",
       "    <tr style=\"text-align: right;\">\n",
       "      <th></th>\n",
       "      <th>TED</th>\n",
       "      <th>Tags</th>\n",
       "    </tr>\n",
       "  </thead>\n",
       "  <tbody>\n",
       "    <tr>\n",
       "      <th>0</th>\n",
       "      <td>Ted Joao</td>\n",
       "      <td>saude</td>\n",
       "    </tr>\n",
       "    <tr>\n",
       "      <th>0</th>\n",
       "      <td>Ted Joao</td>\n",
       "      <td>alimentação</td>\n",
       "    </tr>\n",
       "    <tr>\n",
       "      <th>1</th>\n",
       "      <td>Ted Maria</td>\n",
       "      <td>Esporte</td>\n",
       "    </tr>\n",
       "    <tr>\n",
       "      <th>1</th>\n",
       "      <td>Ted Maria</td>\n",
       "      <td>Corrida</td>\n",
       "    </tr>\n",
       "    <tr>\n",
       "      <th>1</th>\n",
       "      <td>Ted Maria</td>\n",
       "      <td>Competição</td>\n",
       "    </tr>\n",
       "    <tr>\n",
       "      <th>2</th>\n",
       "      <td>Ted Marcos</td>\n",
       "      <td>Cursos</td>\n",
       "    </tr>\n",
       "    <tr>\n",
       "      <th>2</th>\n",
       "      <td>Ted Marcos</td>\n",
       "      <td>Tecnologia</td>\n",
       "    </tr>\n",
       "  </tbody>\n",
       "</table>\n",
       "</div>"
      ],
      "text/plain": [
       "          TED         Tags\n",
       "0    Ted Joao        saude\n",
       "0    Ted Joao  alimentação\n",
       "1   Ted Maria      Esporte\n",
       "1   Ted Maria      Corrida\n",
       "1   Ted Maria   Competição\n",
       "2  Ted Marcos       Cursos\n",
       "2  Ted Marcos   Tecnologia"
      ]
     },
     "execution_count": 34,
     "metadata": {},
     "output_type": "execute_result"
    }
   ],
   "source": [
    "df_ex2.explode('Tags')"
   ]
  },
  {
   "cell_type": "code",
   "execution_count": 35,
   "metadata": {},
   "outputs": [
    {
     "data": {
      "text/plain": [
       "TED         Tags       \n",
       "Ted Joao    alimentação    1\n",
       "            saude          1\n",
       "Ted Marcos  Cursos         1\n",
       "            Tecnologia     1\n",
       "Ted Maria   Competição     1\n",
       "            Corrida        1\n",
       "            Esporte        1\n",
       "Name: count, dtype: int64"
      ]
     },
     "execution_count": 35,
     "metadata": {},
     "output_type": "execute_result"
    }
   ],
   "source": [
    "df_ex2.explode('Tags').value_counts()\n"
   ]
  },
  {
   "cell_type": "code",
   "execution_count": 36,
   "metadata": {},
   "outputs": [
    {
     "data": {
      "text/plain": [
       "Tags\n",
       "saude          1\n",
       "alimentação    1\n",
       "Esporte        1\n",
       "Corrida        1\n",
       "Competição     1\n",
       "Cursos         1\n",
       "Tecnologia     1\n",
       "Name: count, dtype: int64"
      ]
     },
     "execution_count": 36,
     "metadata": {},
     "output_type": "execute_result"
    }
   ],
   "source": [
    "df_ex2.explode('Tags')['Tags'].value_counts()"
   ]
  },
  {
   "cell_type": "code",
   "execution_count": 37,
   "metadata": {},
   "outputs": [
    {
     "data": {
      "text/html": [
       "<div>\n",
       "<style scoped>\n",
       "    .dataframe tbody tr th:only-of-type {\n",
       "        vertical-align: middle;\n",
       "    }\n",
       "\n",
       "    .dataframe tbody tr th {\n",
       "        vertical-align: top;\n",
       "    }\n",
       "\n",
       "    .dataframe thead th {\n",
       "        text-align: right;\n",
       "    }\n",
       "</style>\n",
       "<table border=\"1\" class=\"dataframe\">\n",
       "  <thead>\n",
       "    <tr style=\"text-align: right;\">\n",
       "      <th></th>\n",
       "      <th>TED</th>\n",
       "      <th>Tags</th>\n",
       "    </tr>\n",
       "  </thead>\n",
       "  <tbody>\n",
       "    <tr>\n",
       "      <th>0</th>\n",
       "      <td>Ted Joao</td>\n",
       "      <td>[saude, alimentação]</td>\n",
       "    </tr>\n",
       "    <tr>\n",
       "      <th>1</th>\n",
       "      <td>Ted Maria</td>\n",
       "      <td>[Esporte, Corrida, Competição, alimentação]</td>\n",
       "    </tr>\n",
       "    <tr>\n",
       "      <th>2</th>\n",
       "      <td>Ted Marcos</td>\n",
       "      <td>[Cursos, Tecnologia]</td>\n",
       "    </tr>\n",
       "  </tbody>\n",
       "</table>\n",
       "</div>"
      ],
      "text/plain": [
       "          TED                                         Tags\n",
       "0    Ted Joao                         [saude, alimentação]\n",
       "1   Ted Maria  [Esporte, Corrida, Competição, alimentação]\n",
       "2  Ted Marcos                         [Cursos, Tecnologia]"
      ]
     },
     "execution_count": 37,
     "metadata": {},
     "output_type": "execute_result"
    }
   ],
   "source": [
    "# ex2 \n",
    "\n",
    "teds2 = ['Ted Joao', 'Ted Maria', 'Ted Marcos']\n",
    "tags2 = [['saude', 'alimentação'], ['Esporte', 'Corrida', 'Competição', 'alimentação'], ['Cursos', 'Tecnologia']]\n",
    "\n",
    "df_exx2 = pd.DataFrame({'TED': teds2, 'Tags': tags2 })\n",
    "\n",
    "df_exx2"
   ]
  },
  {
   "cell_type": "code",
   "execution_count": 38,
   "metadata": {},
   "outputs": [
    {
     "data": {
      "text/plain": [
       "TED         Tags       \n",
       "Ted Joao    alimentação    1\n",
       "            saude          1\n",
       "Ted Marcos  Cursos         1\n",
       "            Tecnologia     1\n",
       "Ted Maria   Competição     1\n",
       "            Corrida        1\n",
       "            Esporte        1\n",
       "            alimentação    1\n",
       "Name: count, dtype: int64"
      ]
     },
     "execution_count": 38,
     "metadata": {},
     "output_type": "execute_result"
    }
   ],
   "source": [
    "df_exx2.explode('Tags').value_counts()"
   ]
  },
  {
   "cell_type": "code",
   "execution_count": 40,
   "metadata": {},
   "outputs": [
    {
     "data": {
      "text/plain": [
       "Tags\n",
       "alimentação    2\n",
       "saude          1\n",
       "Esporte        1\n",
       "Corrida        1\n",
       "Competição     1\n",
       "Cursos         1\n",
       "Tecnologia     1\n",
       "Name: count, dtype: int64"
      ]
     },
     "execution_count": 40,
     "metadata": {},
     "output_type": "execute_result"
    }
   ],
   "source": [
    "df_exx2.explode('Tags')['Tags'].value_counts()"
   ]
  },
  {
   "cell_type": "markdown",
   "metadata": {},
   "source": [
    "#### Pivot"
   ]
  },
  {
   "cell_type": "markdown",
   "metadata": {},
   "source": [
    "A função pivot() retorna um novo DataFrame com a estrutura pivotada, onde os valores únicos da coluna especificada em colunis se tornam as colunas distintas, e os valores da coluna especificada em values são distribuídos nessas colunas. \n",
    "\n",
    "![Alt text](<Captura de tela 2023-09-17 234715.png>)"
   ]
  },
  {
   "cell_type": "markdown",
   "metadata": {},
   "source": [
    "### Pivot_table\n",
    "\n",
    "A função pivot_table()permite calcular agregações de dados com base em uma ou mais colunas do DataFrame, fornecendo uma visão resumida dos dados em formato de tabela "
   ]
  },
  {
   "cell_type": "code",
   "execution_count": null,
   "metadata": {},
   "outputs": [],
   "source": [
    "#Paramos 34:48"
   ]
  }
 ],
 "metadata": {
  "kernelspec": {
   "display_name": "Python 3",
   "language": "python",
   "name": "python3"
  },
  "language_info": {
   "codemirror_mode": {
    "name": "ipython",
    "version": 3
   },
   "file_extension": ".py",
   "mimetype": "text/x-python",
   "name": "python",
   "nbconvert_exporter": "python",
   "pygments_lexer": "ipython3",
   "version": "3.11.4"
  },
  "orig_nbformat": 4
 },
 "nbformat": 4,
 "nbformat_minor": 2
}
