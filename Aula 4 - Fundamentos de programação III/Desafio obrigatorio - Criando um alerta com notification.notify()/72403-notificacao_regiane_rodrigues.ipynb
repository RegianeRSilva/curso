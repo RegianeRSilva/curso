{
 "cells": [
  {
   "cell_type": "markdown",
   "metadata": {},
   "source": [
    "DESAFIO AULA 4 - GRUPO 1 - 4"
   ]
  },
  {
   "cell_type": "markdown",
   "metadata": {},
   "source": [
    "Vamos utilizar a função notification.notify() para criar uma função de alerta de falha de carregamento de base de dados."
   ]
  },
  {
   "cell_type": "code",
   "execution_count": 1,
   "metadata": {},
   "outputs": [],
   "source": [
    "from plyer import notification\n",
    "from datetime import datetime\n",
    "# from notifypy import notify # Como você não está usando esta biblioteca, não tem necessidade de importá-la."
   ]
  },
  {
   "cell_type": "code",
   "execution_count": 4,
   "metadata": {},
   "outputs": [],
   "source": [
    "def alerta(nivel,base,etapa):\n",
    "    nivel_titulo = {1: 'Alerta Baixo', 2: 'Alerta Medio', 3:'Alerta Alto'}\n",
    "    titulo = nivel_titulo.get(nivel, 'Alerta Desconhecido')\n",
    "    data_atual = datetime.now()\n",
    "    data_formatada = data_atual.strftime('%d/%m/%Y')\n",
    "    mensagem = (f'{data_formatada} Falha no carregamento da base {base} na etapa {etapa}')\n",
    "    notification.notify(title=titulo,message=mensagem,timeout=10)\n",
    "\n",
    "alerta(nivel=int(input('Digite o nivel (1 para baixo, 2 para Medio e 3 para Alto: ')), base='CLIENTES',etapa='EXTRAÇÃO')"
   ]
  },
  {
   "cell_type": "code",
   "execution_count": 13,
   "metadata": {},
   "outputs": [],
   "source": [
    "'''\n",
    "Regiane, apenas como complemento.\n",
    "Como uma alterativa ao uso de um dicionário para definir o nivel, você pode também utilizar a estrutura condicional.\n",
    "\n",
    "Sugestão abaixo:\n",
    "'''\n",
    "\n",
    "def alerta(nivel,base,etapa):\n",
    "\n",
    "    if nivel == 1:\n",
    "        title = 'Alerta Baixo'\n",
    "    elif nivel == 2:\n",
    "        title = 'Alerta Médio'\n",
    "    elif nivel  == 3:\n",
    "        title = 'Alerta Alto'\n",
    "    else:\n",
    "        print(\"Nivel\",nivel,\"não disponível!\")\n",
    "\n",
    "    # nivel_titulo = {1: 'Alerta Baixo', 2: 'Alerta Medio', 3:'Alerta Alto'}\n",
    "    titulo = f'ATENÇÃO: {title}'\n",
    "    data_atual = datetime.now()\n",
    "    data_formatada = data_atual.strftime('%d/%m/%Y %H:%M:%S') #incluí na formatação a hora da notificação, caso queira manter isso salvo. \n",
    "    mensagem = (f' Falha no carregamento da base {base} na etapa {etapa} {data_formatada}')\n",
    "    notification.notify(title=titulo,message=mensagem,timeout=10)"
   ]
  },
  {
   "cell_type": "code",
   "execution_count": 14,
   "metadata": {},
   "outputs": [],
   "source": [
    "alerta(1, \"TRAIN\", \"PREPROCESSING\")"
   ]
  },
  {
   "cell_type": "code",
   "execution_count": null,
   "metadata": {},
   "outputs": [],
   "source": []
  }
 ],
 "metadata": {
  "kernelspec": {
   "display_name": "Python 3",
   "language": "python",
   "name": "python3"
  },
  "language_info": {
   "codemirror_mode": {
    "name": "ipython",
    "version": 3
   },
   "file_extension": ".py",
   "mimetype": "text/x-python",
   "name": "python",
   "nbconvert_exporter": "python",
   "pygments_lexer": "ipython3",
   "version": "3.10.12"
  },
  "orig_nbformat": 4
 },
 "nbformat": 4,
 "nbformat_minor": 2
}
